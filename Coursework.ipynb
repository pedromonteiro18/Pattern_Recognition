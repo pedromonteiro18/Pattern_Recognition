{
 "nbformat": 4,
 "nbformat_minor": 0,
 "metadata": {
  "kernelspec": {
   "name": "python3",
   "language": "python",
   "display_name": "Python 3"
  },
  "language_info": {
   "codemirror_mode": {
    "name": "ipython",
    "version": 2
   },
   "file_extension": ".py",
   "mimetype": "text/x-python",
   "name": "python",
   "nbconvert_exporter": "python",
   "pygments_lexer": "ipython2",
   "version": "2.7.16"
  },
  "colab": {
   "name": "Coursework.ipynb",
   "provenance": [],
   "collapsed_sections": [],
   "include_colab_link": true
  },
  "pycharm": {
   "stem_cell": {
    "cell_type": "raw",
    "source": [],
    "metadata": {
     "collapsed": false
    }
   }
  }
 },
 "cells": [
  {
   "cell_type": "markdown",
   "metadata": {
    "id": "view-in-github",
    "colab_type": "text"
   },
   "source": [
    "<a href=\"https://colab.research.google.com/github/pedromonteiro18/Pattern_Recognition/blob/master/Coursework.ipynb\" target=\"_parent\"><img src=\"https://colab.research.google.com/assets/colab-badge.svg\" alt=\"Open In Colab\"/></a>"
   ]
  },
  {
   "cell_type": "code",
   "metadata": {
    "id": "_XDZ9jNnLS3r",
    "colab_type": "code",
    "outputId": "472bec6b-7466-4aac-d03a-88694282d54e",
    "colab": {
     "base_uri": "https://localhost:8080/",
     "height": 35
    },
    "pycharm": {
     "is_executing": false
    }
   },
   "source": [
    "import scipy.io as sio\n",
    "import numpy as np\n",
    "import matplotlib.pyplot as plt\n",
    "from sklearn.model_selection import train_test_split\n",
    "from scipy.linalg import eigh\n",
    "\n",
    "\n",
    "mat_content = sio.loadmat('face.mat')\n",
    "1\n",
    "# mat_content # Let's see the content... \n",
    "np.random.seed(1)"
   ],
   "execution_count": 21,
   "outputs": []
  },
  {
   "cell_type": "code",
   "metadata": {
    "id": "eNglKw_rLS3x",
    "colab_type": "code",
    "colab": {},
    "pycharm": {
     "is_executing": false
    }
   },
   "source": [
    "face_data = mat_content['X']\n",
    "face_labels = mat_content['l']\n",
    "\n",
    "#transpose to select test and training data\n",
    "face_data = face_data\n",
    "face_labels = face_labels"
   ],
   "execution_count": 22,
   "outputs": []
  },
  {
   "cell_type": "code",
   "metadata": {
    "id": "Ep6CxjH3LS3z",
    "colab_type": "code",
    "colab": {},
    "pycharm": {
     "is_executing": false
    }
   },
   "source": [
    "#20/80 test/training split\n",
    "data_train, data_test, label_train, label_test = train_test_split(\n",
    "    face_data.T, face_labels.T, test_size=0.2, random_state =1 )"
   ],
   "execution_count": 23,
   "outputs": []
  },
  {
   "cell_type": "code",
   "metadata": {
    "id": "P4Ct5BuELS32",
    "colab_type": "code",
    "outputId": "ca58c164-781f-4943-952a-afabc9ea3b69",
    "colab": {
     "base_uri": "https://localhost:8080/",
     "height": 287
    },
    "pycharm": {
     "is_executing": false
    }
   },
   "source": [
    "#compute average face vector\n",
    "avg = np.mean(data_train, axis = 0)\n",
    "plt.imshow(np.reshape(avg,(46,56)).T, cmap = 'gist_gray')"
   ],
   "execution_count": 24,
   "outputs": [
    {
     "data": {
      "text/plain": "<matplotlib.image.AxesImage at 0x1198946d0>"
     },
     "metadata": {},
     "output_type": "execute_result",
     "execution_count": 24
    },
    {
     "data": {
      "text/plain": "<Figure size 432x288 with 1 Axes>",
      "image/png": "[encoded data removed]"
     },
     "metadata": {
      "needs_background": "light"
     },
     "output_type": "display_data"
    }
   ]
  },
  {
   "cell_type": "code",
   "metadata": {
    "id": "8BVO5SVALS34",
    "colab_type": "code",
    "colab": {},
    "pycharm": {
     "is_executing": false
    }
   },
   "source": [
    "#subtract the mean face \n",
    "A = np.array([(data_train[0] - avg),(data_train[1] - avg)])\n",
    "\n",
    "for i in range(2,len(data_train)):\n",
    "    app = np.array([data_train[i] - avg])\n",
    "    newA = np.append(A, app, axis = 0)\n",
    "    A = newA\n",
    "A = A.T"
   ],
   "execution_count": 25,
   "outputs": []
  },
  {
   "cell_type": "code",
   "metadata": {
    "id": "uTQZlJv1LS36",
    "colab_type": "code",
    "colab": {},
    "pycharm": {
     "is_executing": false
    }
   },
   "source": [
    "#compute covariance matrix \n",
    "S = np.dot(A, A.T)*1/len(data_train)\n",
    "\n",
    "#Low-dimensional computation of eigenspace \n",
    "S2 = np.dot(A.T, A)*1/len(data_train)"
   ],
   "execution_count": 26,
   "outputs": []
  },
  {
   "cell_type": "code",
   "metadata": {
    "id": "qXUHz5LjLS38",
    "colab_type": "code",
    "outputId": "b6617041-0258-4330-c4a5-5dbdccf52141",
    "colab": {
     "base_uri": "https://localhost:8080/",
     "height": 330
    },
    "pycharm": {
     "is_executing": false
    }
   },
   "source": [
    "# eigenvectors and eigenvalues\n",
    "eigvals, eigvecs = np.linalg.eig(S)\n",
    "eigvalsLow, eigvecsLow = np.linalg.eig(S2)\n",
    "# print(eigvalsLow, eigvecsLow)"
   ],
   "execution_count": 27,
   "outputs": []
  },
  {
   "cell_type": "code",
   "metadata": {
    "id": "LyrZdj48LS3_",
    "colab_type": "code",
    "outputId": "89475637-75cd-4630-a1b1-2869bf52d591",
    "colab": {
     "base_uri": "https://localhost:8080/",
     "height": 67
    },
    "pycharm": {
     "is_executing": false
    }
   },
   "source": [
    "N=S2.shape[0]\n",
    "M = 416\n",
    "Meigvals, Meigvecs = eigh(S2, eigvals=(N-M, N-1))\n",
    "\n",
    "eigvecs = Meigvecs.astype(float)\n",
    "\n",
    "#represent each normalized face by its projections\n",
    "Wn = np.dot(A[:,[100]], eigvecs[[100],:])\n",
    "print(Wn.shape)\n",
    "# print(np.sort(eigvalsLow)[::-1])\n"
   ],
   "execution_count": 28,
   "outputs": [
    {
     "name": "stdout",
     "text": [
      "(2576, 416)\n"
     ],
     "output_type": "stream"
    }
   ]
  },
  {
   "cell_type": "code",
   "metadata": {
    "id": "oAU-aojSLS4B",
    "colab_type": "code",
    "outputId": "fd723164-829a-4066-ebea-b989cfdaa219",
    "colab": {
     "base_uri": "https://localhost:8080/",
     "height": 287
    },
    "pycharm": {
     "is_executing": false
    }
   },
   "source": [
    "#reconstruction test face \n",
    "face_100 = data_train.T[:,100]\n",
    "face_100 = np.reshape(face_100,(46,56))\n",
    "plt.imshow(face_100.T, cmap= 'gist_gray')"
   ],
   "execution_count": 29,
   "outputs": [
    {
     "data": {
      "text/plain": "<matplotlib.image.AxesImage at 0x118fae150>"
     },
     "metadata": {},
     "output_type": "execute_result",
     "execution_count": 29
    },
    {
     "data": {
      "text/plain": "<Figure size 432x288 with 1 Axes>",
      "image/png": "[encoded data removed]"
     },
     "metadata": {
      "needs_background": "light"
     },
     "output_type": "display_data"
    }
   ]
  },
  {
   "cell_type": "code",
   "metadata": {
    "id": "y45vqM_YLS4D",
    "colab_type": "code",
    "outputId": "8710324f-1200-40df-b509-ec9bfc1204c9",
    "colab": {
     "base_uri": "https://localhost:8080/",
     "height": 287
    },
    "pycharm": {
     "is_executing": false
    }
   },
   "source": [
    "# sumCols = np.array([[None for x in range(2576)] for y in range(1)]).T\n",
    "sumCols = Wn[:,0].reshape(-1,1)\n",
    "for i in range(1, len(Wn[0])):\n",
    "    cols = Wn[:,i].reshape(-1,1)\n",
    "    sumCols += np.reshape(cols, (2576, 1))\n",
    "\n",
    "#reconstruct \n",
    "new_100 = avg.reshape((2576,1)) + sumCols\n",
    "new_100 = np.reshape(new_100,(46,56))\n",
    "#new_100 = (255-np.reshape(new_100,(46,56)))\n",
    "plt.imshow(new_100.T, cmap = 'gist_gray')"
   ],
   "execution_count": 30,
   "outputs": [
    {
     "data": {
      "text/plain": "<matplotlib.image.AxesImage at 0x11914aad0>"
     },
     "metadata": {},
     "output_type": "execute_result",
     "execution_count": 30
    },
    {
     "data": {
      "text/plain": "<Figure size 432x288 with 1 Axes>",
      "image/png": "[encoded data removed]"
     },
     "metadata": {
      "needs_background": "light"
     },
     "output_type": "display_data"
    }
   ]
  },
  {
   "cell_type": "code",
   "metadata": {
    "id": "MDZniFdILS4F",
    "colab_type": "code",
    "outputId": "ce430ae7-a46a-4ff4-e2eb-2d51feb65ede",
    "colab": {
     "base_uri": "https://localhost:8080/",
     "height": 34
    },
    "pycharm": {
     "is_executing": false
    }
   },
   "source": [
    "def distance(instance1, instance2):\n",
    "    # just in case, if the instances are lists or tuples:\n",
    "    instance1 = np.array(instance1) \n",
    "    instance2 = np.array(instance2)\n",
    "    \n",
    "    return np.linalg.norm(instance1 - instance2)\n",
    "  \n",
    "def get_neighbors(training_set, \n",
    "                  labels, \n",
    "                  test_instance, \n",
    "                  k, \n",
    "                  distance=distance):\n",
    "    \"\"\"\n",
    "    get_neighors calculates a list of the k nearest neighbors\n",
    "    of an instance 'test_instance'.\n",
    "    The list neighbors contains 3-tuples with  \n",
    "    (index, dist, label)\n",
    "    where \n",
    "    index    is the index from the training_set, \n",
    "    dist     is the distance between the test_instance and the \n",
    "             instance training_set[index]\n",
    "    distance is a reference to a function used to calculate the \n",
    "             distances\n",
    "    \"\"\"\n",
    "    distances = []\n",
    "    for index in range(len(training_set)):\n",
    "        dist = distance(test_instance, training_set[index])\n",
    "        distances.append((training_set[index], dist, labels[index]))\n",
    "    distances.sort(key=lambda x: x[1])\n",
    "    neighbors = distances[:k]\n",
    "    return neighbors\n",
    "\n",
    "print(get_neighbors(data_train, label_train, data_test[100], 1, distance=distance))"
   ],
   "execution_count": 31,
   "outputs": [
    {
     "name": "stdout",
     "text": [
      "[(array([169, 148, 126, ...,  25,  23,  21], dtype=uint8), 3783.3360939784347, array([4], dtype=uint8))]\n"
     ],
     "output_type": "stream"
    }
   ]
  },
  {
   "cell_type": "code",
   "metadata": {
    "id": "Q5ua9s97es55",
    "colab_type": "code",
    "colab": {},
    "pycharm": {
     "is_executing": false
    }
   },
   "source": [
    "# test"
   ],
   "execution_count": 32,
   "outputs": []
  }
 ]
}