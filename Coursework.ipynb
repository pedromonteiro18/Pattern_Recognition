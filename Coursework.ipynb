{
  "nbformat": 4,
  "nbformat_minor": 0,
  "metadata": {
    "kernelspec": {
      "name": "python3",
      "language": "python",
      "display_name": "Python 3"
    },
    "language_info": {
      "codemirror_mode": {
        "name": "ipython",
        "version": 2
      },
      "file_extension": ".py",
      "mimetype": "text/x-python",
      "name": "python",
      "nbconvert_exporter": "python",
      "pygments_lexer": "ipython2",
      "version": "2.7.16"
    },
    "colab": {
      "name": "Coursework.ipynb",
      "provenance": [],
      "collapsed_sections": [],
      "include_colab_link": true
    },
    "pycharm": {
      "stem_cell": {
        "cell_type": "raw",
        "source": [],
        "metadata": {
          "collapsed": false
        }
      }
    }
  },
  "cells": [
    {
      "cell_type": "markdown",
      "metadata": {
        "id": "view-in-github",
        "colab_type": "text"
      },
      "source": [
        "<a href=\"https://colab.research.google.com/github/pedromonteiro18/Pattern_Recognition/blob/master/Coursework.ipynb\" target=\"_parent\"><img src=\"https://colab.research.google.com/assets/colab-badge.svg\" alt=\"Open In Colab\"/></a>"
      ]
    },
    {
      "cell_type": "code",
      "metadata": {
        "id": "_XDZ9jNnLS3r",
        "colab_type": "code",
        "pycharm": {
          "is_executing": false
        },
        "colab": {}
      },
      "source": [
        "import scipy.io as sio\n",
        "import numpy as np\n",
        "import matplotlib.pyplot as plt\n",
        "from sklearn.model_selection import train_test_split\n",
        "from scipy.linalg import eigh\n",
        "\n",
        "\n",
        "mat_content = sio.loadmat('face.mat')\n",
        "1\n",
        "# mat_content # Let's see the content... \n",
        "np.random.seed(1)"
      ],
      "execution_count": 0,
      "outputs": []
    },
    {
      "cell_type": "code",
      "metadata": {
        "id": "eNglKw_rLS3x",
        "colab_type": "code",
        "pycharm": {
          "is_executing": false
        },
        "colab": {}
      },
      "source": [
        "face_data = mat_content['X']\n",
        "face_labels = mat_content['l']\n",
        "\n",
        "#transpose to select test and training data\n",
        "face_data = face_data\n",
        "face_labels = face_labels"
      ],
      "execution_count": 0,
      "outputs": []
    },
    {
      "cell_type": "code",
      "metadata": {
        "id": "Ep6CxjH3LS3z",
        "colab_type": "code",
        "pycharm": {
          "is_executing": false
        },
        "colab": {}
      },
      "source": [
        "#20/80 test/training split\n",
        "# data_train, data_test, label_train, label_test = train_test_split(\n",
        "#     face_data.T, face_labels.T, test_size=0.2, random_state =1 )\n",
        "# face_data = face_data.T\n",
        "# face_labels = face_labels.T\n",
        "\n",
        "data_train = np.reshape(face_data[:,:8],(2576,8))\n",
        "data_test= np.reshape(face_data[:,8:10],(2576,2))\n",
        "label_train = np.reshape(face_labels[:,:8],(1,8))\n",
        "label_test = np.reshape(face_labels[:,8:10],(1,2))\n",
        "\n",
        "\n",
        "for i in range(10,520,10):\n",
        "    data_train = np.concatenate((data_train, face_data[:,i:i+8]),axis=1)\n",
        "    data_test = np.concatenate((data_test, face_data[:,i+8:i+10]),axis=1)\n",
        "    label_train = np.concatenate((label_train, face_labels[:,i:i+8]),axis=1)\n",
        "    label_test = np.concatenate((label_test, face_labels[:,i+8:i+10]), axis=1)\n",
        "    \n",
        "data_train = data_train.T\n",
        "data_test = data_test.T\n",
        "label_train = label_train.T\n",
        "label_test = label_test.T\n"
      ],
      "execution_count": 0,
      "outputs": []
    },
    {
      "cell_type": "code",
      "metadata": {
        "id": "P4Ct5BuELS32",
        "colab_type": "code",
        "outputId": "18339fb2-6374-4085-84de-7345563f3e01",
        "pycharm": {
          "is_executing": false
        },
        "colab": {
          "base_uri": "https://localhost:8080/",
          "height": 284
        }
      },
      "source": [
        "#compute average face vector\n",
        "avg = np.mean(data_train, axis = 0)\n",
        "plt.imshow(np.reshape(avg,(46,56)).T, cmap = 'gist_gray')"
      ],
      "execution_count": 21,
      "outputs": [
        {
          "output_type": "execute_result",
          "data": {
            "text/plain": [
              "<matplotlib.image.AxesImage at 0x7f74462272e8>"
            ]
          },
          "metadata": {
            "tags": []
          },
          "execution_count": 21
        },
        {
          "output_type": "display_data",
          "data": {
            "image/png": "[encoded data removed]",
            "text/plain": [
              "<Figure size 432x288 with 1 Axes>"
            ]
          },
          "metadata": {
            "tags": []
          }
        }
      ]
    },
    {
      "cell_type": "code",
      "metadata": {
        "id": "8BVO5SVALS34",
        "colab_type": "code",
        "pycharm": {
          "is_executing": false
        },
        "colab": {}
      },
      "source": [
        "#subtract the mean face \n",
        "A = np.array([(data_train[0] - avg),(data_train[1] - avg)])\n",
        "\n",
        "for i in range(2,len(data_train)):\n",
        "    app = np.array([data_train[i] - avg])\n",
        "    newA = np.append(A, app, axis = 0)\n",
        "    A = newA\n",
        "A = A.T"
      ],
      "execution_count": 0,
      "outputs": []
    },
    {
      "cell_type": "code",
      "metadata": {
        "id": "uTQZlJv1LS36",
        "colab_type": "code",
        "pycharm": {
          "is_executing": false
        },
        "colab": {}
      },
      "source": [
        "#compute covariance matrix \n",
        "S = np.dot(A, A.T)*1/len(data_train)\n",
        "\n",
        "#Low-dimensional computation of eigenspace \n",
        "S2 = np.dot(A.T, A)*1/len(data_train)"
      ],
      "execution_count": 0,
      "outputs": []
    },
    {
      "cell_type": "code",
      "metadata": {
        "id": "qXUHz5LjLS38",
        "colab_type": "code",
        "pycharm": {
          "is_executing": false
        },
        "colab": {}
      },
      "source": [
        "# eigenvectors and eigenvalues\n",
        "eigvals, eigvecs = np.linalg.eig(S)\n",
        "eigvalsLow, eigvecsLow = np.linalg.eig(S2)\n",
        "# print(eigvalsLow, eigvecsLow)"
      ],
      "execution_count": 0,
      "outputs": []
    },
    {
      "cell_type": "code",
      "metadata": {
        "id": "LyrZdj48LS3_",
        "colab_type": "code",
        "outputId": "2651e837-6667-4a88-dcb2-27c38d6c04b3",
        "pycharm": {
          "is_executing": false
        },
        "colab": {
          "base_uri": "https://localhost:8080/",
          "height": 33
        }
      },
      "source": [
        "from sklearn import preprocessing\n",
        "N=S2.shape[0]\n",
        "M = 416\n",
        "Meigvals, Meigvecs = eigh(S2, eigvals=(N-M, N-1))\n",
        "\n",
        "eigvecsM = Meigvecs.astype(float)\n",
        "eigvecsM = preprocessing.normalize(np.dot(A, eigvecsM).T)\n",
        "\n",
        "#represent each normalized face by its projections\n",
        "Wn = np.dot(A[:,[100]].T, eigvecsM.T)\n",
        "print(Wn.shape)\n",
        "# print(np.sort(eigvalsLow)[::-1])\n"
      ],
      "execution_count": 25,
      "outputs": [
        {
          "output_type": "stream",
          "text": [
            "(1, 416)\n"
          ],
          "name": "stdout"
        }
      ]
    },
    {
      "cell_type": "code",
      "metadata": {
        "id": "oAU-aojSLS4B",
        "colab_type": "code",
        "outputId": "fd47562c-65c1-4f24-ddc4-86665659b36b",
        "pycharm": {
          "is_executing": false
        },
        "colab": {
          "base_uri": "https://localhost:8080/",
          "height": 284
        }
      },
      "source": [
        "#reconstruction test face \n",
        "face_100 = data_train.T[:,100]\n",
        "face_100 = np.reshape(face_100,(46,56))\n",
        "plt.imshow(face_100.T, cmap= 'gist_gray')"
      ],
      "execution_count": 26,
      "outputs": [
        {
          "output_type": "execute_result",
          "data": {
            "text/plain": [
              "<matplotlib.image.AxesImage at 0x7f7446180400>"
            ]
          },
          "metadata": {
            "tags": []
          },
          "execution_count": 26
        },
        {
          "output_type": "display_data",
          "data": {
            "image/png": "[encoded data removed]",
            "text/plain": [
              "<Figure size 432x288 with 1 Axes>"
            ]
          },
          "metadata": {
            "tags": []
          }
        }
      ]
    },
    {
      "cell_type": "code",
      "metadata": {
        "id": "y45vqM_YLS4D",
        "colab_type": "code",
        "outputId": "a9e3783c-033c-4a7f-85ca-d23160e9baa7",
        "pycharm": {
          "is_executing": false
        },
        "colab": {
          "base_uri": "https://localhost:8080/",
          "height": 284
        }
      },
      "source": [
        "# sumCols = np.array([[None for x in range(2576)] for y in range(1)]).T\n",
        "# sumCols = Wn[:,0].reshape(-1,1)\n",
        "# for i in range(1, len(Wn[0])):\n",
        "#     cols = Wn[:,i].reshape(-1,1)\n",
        "#     sumCols += np.reshape(cols, (2576, 1))\n",
        "sumCols = np.dot(Wn, eigvecsM)\n",
        "\n",
        "#reconstruct \n",
        "new_100 = avg.reshape((2576,1)) + sumCols.T\n",
        "new_100_reshaped = np.reshape(new_100,(46,56))\n",
        "#new_100 = (255-np.reshape(new_100,(46,56)))\n",
        "plt.imshow(new_100_reshaped.T, cmap = 'gist_gray')"
      ],
      "execution_count": 27,
      "outputs": [
        {
          "output_type": "execute_result",
          "data": {
            "text/plain": [
              "<matplotlib.image.AxesImage at 0x7f74461535c0>"
            ]
          },
          "metadata": {
            "tags": []
          },
          "execution_count": 27
        },
        {
          "output_type": "display_data",
          "data": {
            "image/png": "[encoded data removed]",
            "text/plain": [
              "<Figure size 432x288 with 1 Axes>"
            ]
          },
          "metadata": {
            "tags": []
          }
        }
      ]
    },
    {
      "cell_type": "code",
      "metadata": {
        "id": "d__sjKPV73oF",
        "colab_type": "code",
        "outputId": "d7192541-b7fa-4a20-e4ac-0c51e1be26ce",
        "pycharm": {
          "is_executing": false
        },
        "colab": {
          "base_uri": "https://localhost:8080/",
          "height": 296
        }
      },
      "source": [
        "# Calculating the reconstruction error\n",
        "x = []\n",
        "y = []\n",
        "for M in range(1,N):\n",
        "  Meigvals_new, Meigvecs_new = eigh(S2, eigvals=(N-M, N-1))\n",
        "  J = np.absolute(np.sum(Meigvals)-np.sum(Meigvals_new))\n",
        "  x.append(M)\n",
        "  y.append(J)\n",
        "\n",
        "plt.xlabel('No. of Eigenvectors')\n",
        "plt.ylabel('Absolute Error')\n",
        "plt.plot(x,y)\n"
      ],
      "execution_count": 28,
      "outputs": [
        {
          "output_type": "execute_result",
          "data": {
            "text/plain": [
              "[<matplotlib.lines.Line2D at 0x7f7446127cc0>]"
            ]
          },
          "metadata": {
            "tags": []
          },
          "execution_count": 28
        },
        {
          "output_type": "display_data",
          "data": {
            "image/png": "[encoded data removed]",
            "text/plain": [
              "<Figure size 432x288 with 1 Axes>"
            ]
          },
          "metadata": {
            "tags": []
          }
        }
      ]
    },
    {
      "cell_type": "code",
      "metadata": {
        "id": "E6MUslT256xT",
        "colab_type": "code",
        "outputId": "87bfc7b7-20f4-4429-99a2-c18616272d45",
        "pycharm": {
          "is_executing": false
        },
        "colab": {
          "base_uri": "https://localhost:8080/",
          "height": 284
        }
      },
      "source": [
        "# nearest neighbour test face\n",
        "test_face = data_test.T[:,25]\n",
        "test_face = np.reshape(test_face,(46,56))\n",
        "plt.imshow(test_face.T, cmap= 'gist_gray')"
      ],
      "execution_count": 29,
      "outputs": [
        {
          "output_type": "execute_result",
          "data": {
            "text/plain": [
              "<matplotlib.image.AxesImage at 0x7f7446087b38>"
            ]
          },
          "metadata": {
            "tags": []
          },
          "execution_count": 29
        },
        {
          "output_type": "display_data",
          "data": {
            "image/png": "[encoded data removed]",
            "text/plain": [
              "<Figure size 432x288 with 1 Axes>"
            ]
          },
          "metadata": {
            "tags": []
          }
        }
      ]
    },
    {
      "cell_type": "code",
      "metadata": {
        "id": "L6t85cet61b0",
        "colab_type": "code",
        "outputId": "d41edc75-4c46-402b-ab52-a2038a5f6a3c",
        "pycharm": {
          "is_executing": false
        },
        "colab": {
          "base_uri": "https://localhost:8080/",
          "height": 84
        }
      },
      "source": [
        "W = np.dot(A.T, eigvecsM.T)\n",
        "print(W.shape)\n",
        "test_face_normalized = data_test[25] - avg \n",
        "print(test_face_normalized.shape)\n",
        "W_test = np.dot(test_face_normalized, eigvecsM.T)\n",
        "print(W_test.shape)\n",
        "print(label_test[25])"
      ],
      "execution_count": 30,
      "outputs": [
        {
          "output_type": "stream",
          "text": [
            "(416, 416)\n",
            "(2576,)\n",
            "(416,)\n",
            "[13]\n"
          ],
          "name": "stdout"
        }
      ]
    },
    {
      "cell_type": "code",
      "metadata": {
        "colab_type": "code",
        "outputId": "af6a600e-426a-4364-98fd-e0ac9a748446",
        "pycharm": {
          "is_executing": false
        },
        "id": "b30y2JTYi-oM",
        "colab": {
          "base_uri": "https://localhost:8080/",
          "height": 300
        }
      },
      "source": [
        "from sklearn.neighbors import KNeighborsClassifier\n",
        "\n",
        "def distance(instance1, instance2):\n",
        "    # just in case, if the instances are lists or tuples:\n",
        "    instance1 = np.array(instance1) \n",
        "    instance2 = np.array(instance2)\n",
        "    \n",
        "    return np.linalg.norm(instance1 - instance2)\n",
        "  \n",
        "def get_neighbors(training_set, \n",
        "                  labels, \n",
        "                  test_instance, \n",
        "                  k, \n",
        "                  distance=distance):\n",
        "    \"\"\"\n",
        "    get_neighors calculates a list of the k nearest neighbors\n",
        "    of an instance 'test_instance'.\n",
        "    The list neighbors contains 3-tuples with  \n",
        "    (index, dist, label)\n",
        "    where \n",
        "    index    is the index from the training_set, \n",
        "    dist     is the distance between the test_instance and the \n",
        "             instance training_set[index]\n",
        "    distance is a reference to a function used to calculate the \n",
        "             distances\n",
        "    \"\"\"\n",
        "    # distances = []\n",
        "    # for index in range(len(training_set)):\n",
        "    #     dist = distance(test_instance, training_set[index])\n",
        "    #     distances.append((training_set[index], dist, labels[index]))\n",
        "    # distances.sort(key=lambda x: x[1])\n",
        "    # neighbors = distances[:k]\n",
        "    # \n",
        "    neigh = KNeighborsClassifier(n_neighbors=1)\n",
        "    neigh.fit(training_set, labels.ravel()) \n",
        "    neighbors = neigh.predict(test_instance)\n",
        "    \n",
        "    return neighbors\n",
        "dataLabel = zip(data_train,label_train)\n",
        "\n",
        "W_test = np.reshape(W_test,(-1,1)).T\n",
        "print(W.shape, label_train.shape, W_test.shape)\n",
        "label = get_neighbors(W, label_train, W_test, 1, distance=distance)\n",
        "\n",
        "output = []\n",
        "for i in dataLabel:\n",
        "    dat, lab = i\n",
        "    if lab == label:\n",
        "        output.append(np.reshape(dat,(2576,1)))\n",
        "\n",
        "# image = data_train[:,13]\n",
        "# print(image.shape)\n",
        "image = np.reshape(output[0],(46,56))\n",
        "plt.imshow(image.T, cmap= 'gist_gray')"
      ],
      "execution_count": 41,
      "outputs": [
        {
          "output_type": "stream",
          "text": [
            "(416, 416) (416, 1) (1, 416)\n"
          ],
          "name": "stdout"
        },
        {
          "output_type": "execute_result",
          "data": {
            "text/plain": [
              "<matplotlib.image.AxesImage at 0x7f7445baef28>"
            ]
          },
          "metadata": {
            "tags": []
          },
          "execution_count": 41
        },
        {
          "output_type": "display_data",
          "data": {
            "image/png": "[encoded data removed]",
            "text/plain": [
              "<Figure size 432x288 with 1 Axes>"
            ]
          },
          "metadata": {
            "tags": []
          }
        }
      ]
    },
    {
      "cell_type": "code",
      "metadata": {
        "pycharm": {
          "name": "#%%\n",
          "is_executing": false
        },
        "id": "5Ze9iJ8jPqE8",
        "colab_type": "code",
        "colab": {
          "base_uri": "https://localhost:8080/",
          "height": 67
        },
        "outputId": "03c1d6f1-8e81-4b30-899c-3410f77d31ae"
      },
      "source": [
        "Meigvals_new, Meigvecs_new = np.linalg.eig(S2)\n",
        "idx = Meigvals_new.argsort()[::-1]   \n",
        "Meigvals_new = Meigvals_new[idx]\n",
        "print(Meigvecs_new.shape)\n",
        "Meigvecs_new  = Meigvecs_new[idx, :]\n",
        "print(Meigvecs_new.shape)\n",
        "Meigvecs_new = Meigvecs_new.astype(float)\n",
        "Meigvecs_new = preprocessing.normalize(np.dot(A, Meigvecs_new))\n",
        "print(Meigvecs_new.shape)"
      ],
      "execution_count": 75,
      "outputs": [
        {
          "output_type": "stream",
          "text": [
            "(416, 416)\n",
            "(416, 416)\n",
            "(2576, 416)\n"
          ],
          "name": "stdout"
        }
      ]
    },
    {
      "cell_type": "code",
      "metadata": {
        "id": "YE9naNYxHc3C",
        "colab_type": "code",
        "outputId": "35fd98ce-bcc4-4b88-eca5-e2c421dd22ba",
        "pycharm": {
          "is_executing": false
        },
        "colab": {
          "base_uri": "https://localhost:8080/",
          "height": 1000
        }
      },
      "source": [
        "x=[]\n",
        "y=[]\n",
        "for M in range(1,416):\n",
        "  eigvecsM = Meigvecs_new.T[:M]\n",
        "  # eigvecsM = preprocessing.normalize(np.dot(A, eigvecsM.T))\n",
        "  # print(A.shape, eigvecsM.shape)\n",
        "  total = 0\n",
        "  correct = 0\n",
        "\n",
        "  W = np.dot(A.T, eigvecsM.T)\n",
        "  print(W.shape)\n",
        "  for test_index in range(len(data_test)):\n",
        "    test_face_normalized = data_test[test_index] - avg \n",
        "    W_test = np.dot(test_face_normalized, eigvecsM.T)\n",
        "    W_test = np.reshape(W_test,(-1,1)).T\n",
        "    label = get_neighbors(W, label_train, W_test, 1, distance=distance)\n",
        "    if label == label_test[test_index]:\n",
        "      correct += 1\n",
        "    total += 1\n",
        "  x.append(M)\n",
        "  y.append(correct/total)\n",
        "\n",
        "plt.xlabel('No. of Eigenvectors')\n",
        "plt.ylabel('Accuracy')\n",
        "plt.plot(x,y)"
      ],
      "execution_count": 77,
      "outputs": [
        {
          "output_type": "stream",
          "text": [
            "(416, 1)\n",
            "(416, 2)\n",
            "(416, 3)\n",
            "(416, 4)\n",
            "(416, 5)\n",
            "(416, 6)\n",
            "(416, 7)\n",
            "(416, 8)\n",
            "(416, 9)\n",
            "(416, 10)\n",
            "(416, 11)\n",
            "(416, 12)\n",
            "(416, 13)\n",
            "(416, 14)\n",
            "(416, 15)\n",
            "(416, 16)\n",
            "(416, 17)\n",
            "(416, 18)\n",
            "(416, 19)\n",
            "(416, 20)\n",
            "(416, 21)\n",
            "(416, 22)\n",
            "(416, 23)\n",
            "(416, 24)\n",
            "(416, 25)\n",
            "(416, 26)\n",
            "(416, 27)\n",
            "(416, 28)\n",
            "(416, 29)\n",
            "(416, 30)\n",
            "(416, 31)\n",
            "(416, 32)\n",
            "(416, 33)\n",
            "(416, 34)\n",
            "(416, 35)\n",
            "(416, 36)\n",
            "(416, 37)\n",
            "(416, 38)\n",
            "(416, 39)\n",
            "(416, 40)\n",
            "(416, 41)\n",
            "(416, 42)\n",
            "(416, 43)\n",
            "(416, 44)\n",
            "(416, 45)\n",
            "(416, 46)\n",
            "(416, 47)\n",
            "(416, 48)\n",
            "(416, 49)\n",
            "(416, 50)\n",
            "(416, 51)\n",
            "(416, 52)\n",
            "(416, 53)\n",
            "(416, 54)\n",
            "(416, 55)\n",
            "(416, 56)\n",
            "(416, 57)\n",
            "(416, 58)\n",
            "(416, 59)\n",
            "(416, 60)\n",
            "(416, 61)\n",
            "(416, 62)\n",
            "(416, 63)\n",
            "(416, 64)\n",
            "(416, 65)\n",
            "(416, 66)\n",
            "(416, 67)\n",
            "(416, 68)\n",
            "(416, 69)\n",
            "(416, 70)\n",
            "(416, 71)\n",
            "(416, 72)\n",
            "(416, 73)\n",
            "(416, 74)\n",
            "(416, 75)\n",
            "(416, 76)\n",
            "(416, 77)\n",
            "(416, 78)\n",
            "(416, 79)\n",
            "(416, 80)\n",
            "(416, 81)\n",
            "(416, 82)\n",
            "(416, 83)\n",
            "(416, 84)\n",
            "(416, 85)\n",
            "(416, 86)\n",
            "(416, 87)\n",
            "(416, 88)\n",
            "(416, 89)\n",
            "(416, 90)\n",
            "(416, 91)\n",
            "(416, 92)\n",
            "(416, 93)\n",
            "(416, 94)\n",
            "(416, 95)\n",
            "(416, 96)\n",
            "(416, 97)\n",
            "(416, 98)\n",
            "(416, 99)\n",
            "(416, 100)\n",
            "(416, 101)\n",
            "(416, 102)\n",
            "(416, 103)\n",
            "(416, 104)\n",
            "(416, 105)\n",
            "(416, 106)\n",
            "(416, 107)\n",
            "(416, 108)\n",
            "(416, 109)\n",
            "(416, 110)\n",
            "(416, 111)\n",
            "(416, 112)\n",
            "(416, 113)\n",
            "(416, 114)\n",
            "(416, 115)\n",
            "(416, 116)\n",
            "(416, 117)\n",
            "(416, 118)\n",
            "(416, 119)\n",
            "(416, 120)\n",
            "(416, 121)\n",
            "(416, 122)\n",
            "(416, 123)\n",
            "(416, 124)\n",
            "(416, 125)\n",
            "(416, 126)\n",
            "(416, 127)\n",
            "(416, 128)\n",
            "(416, 129)\n",
            "(416, 130)\n",
            "(416, 131)\n",
            "(416, 132)\n",
            "(416, 133)\n",
            "(416, 134)\n",
            "(416, 135)\n",
            "(416, 136)\n",
            "(416, 137)\n",
            "(416, 138)\n",
            "(416, 139)\n",
            "(416, 140)\n",
            "(416, 141)\n",
            "(416, 142)\n",
            "(416, 143)\n",
            "(416, 144)\n",
            "(416, 145)\n",
            "(416, 146)\n",
            "(416, 147)\n",
            "(416, 148)\n",
            "(416, 149)\n",
            "(416, 150)\n",
            "(416, 151)\n",
            "(416, 152)\n",
            "(416, 153)\n",
            "(416, 154)\n",
            "(416, 155)\n",
            "(416, 156)\n",
            "(416, 157)\n",
            "(416, 158)\n",
            "(416, 159)\n",
            "(416, 160)\n",
            "(416, 161)\n",
            "(416, 162)\n",
            "(416, 163)\n",
            "(416, 164)\n",
            "(416, 165)\n",
            "(416, 166)\n",
            "(416, 167)\n",
            "(416, 168)\n",
            "(416, 169)\n",
            "(416, 170)\n",
            "(416, 171)\n",
            "(416, 172)\n",
            "(416, 173)\n",
            "(416, 174)\n",
            "(416, 175)\n",
            "(416, 176)\n",
            "(416, 177)\n",
            "(416, 178)\n",
            "(416, 179)\n",
            "(416, 180)\n",
            "(416, 181)\n",
            "(416, 182)\n",
            "(416, 183)\n",
            "(416, 184)\n",
            "(416, 185)\n",
            "(416, 186)\n",
            "(416, 187)\n",
            "(416, 188)\n",
            "(416, 189)\n",
            "(416, 190)\n",
            "(416, 191)\n",
            "(416, 192)\n",
            "(416, 193)\n",
            "(416, 194)\n",
            "(416, 195)\n",
            "(416, 196)\n",
            "(416, 197)\n",
            "(416, 198)\n",
            "(416, 199)\n",
            "(416, 200)\n",
            "(416, 201)\n",
            "(416, 202)\n",
            "(416, 203)\n",
            "(416, 204)\n",
            "(416, 205)\n",
            "(416, 206)\n",
            "(416, 207)\n",
            "(416, 208)\n",
            "(416, 209)\n",
            "(416, 210)\n",
            "(416, 211)\n",
            "(416, 212)\n",
            "(416, 213)\n",
            "(416, 214)\n",
            "(416, 215)\n",
            "(416, 216)\n",
            "(416, 217)\n",
            "(416, 218)\n",
            "(416, 219)\n",
            "(416, 220)\n",
            "(416, 221)\n",
            "(416, 222)\n",
            "(416, 223)\n",
            "(416, 224)\n",
            "(416, 225)\n",
            "(416, 226)\n",
            "(416, 227)\n",
            "(416, 228)\n",
            "(416, 229)\n",
            "(416, 230)\n",
            "(416, 231)\n",
            "(416, 232)\n",
            "(416, 233)\n",
            "(416, 234)\n",
            "(416, 235)\n",
            "(416, 236)\n",
            "(416, 237)\n",
            "(416, 238)\n",
            "(416, 239)\n",
            "(416, 240)\n",
            "(416, 241)\n",
            "(416, 242)\n",
            "(416, 243)\n",
            "(416, 244)\n",
            "(416, 245)\n",
            "(416, 246)\n",
            "(416, 247)\n",
            "(416, 248)\n",
            "(416, 249)\n",
            "(416, 250)\n",
            "(416, 251)\n",
            "(416, 252)\n",
            "(416, 253)\n",
            "(416, 254)\n",
            "(416, 255)\n",
            "(416, 256)\n",
            "(416, 257)\n",
            "(416, 258)\n",
            "(416, 259)\n",
            "(416, 260)\n",
            "(416, 261)\n",
            "(416, 262)\n",
            "(416, 263)\n",
            "(416, 264)\n",
            "(416, 265)\n",
            "(416, 266)\n",
            "(416, 267)\n",
            "(416, 268)\n",
            "(416, 269)\n",
            "(416, 270)\n",
            "(416, 271)\n",
            "(416, 272)\n",
            "(416, 273)\n",
            "(416, 274)\n",
            "(416, 275)\n",
            "(416, 276)\n",
            "(416, 277)\n",
            "(416, 278)\n",
            "(416, 279)\n",
            "(416, 280)\n",
            "(416, 281)\n",
            "(416, 282)\n",
            "(416, 283)\n",
            "(416, 284)\n",
            "(416, 285)\n",
            "(416, 286)\n",
            "(416, 287)\n",
            "(416, 288)\n",
            "(416, 289)\n",
            "(416, 290)\n",
            "(416, 291)\n",
            "(416, 292)\n",
            "(416, 293)\n",
            "(416, 294)\n",
            "(416, 295)\n",
            "(416, 296)\n",
            "(416, 297)\n",
            "(416, 298)\n",
            "(416, 299)\n",
            "(416, 300)\n",
            "(416, 301)\n",
            "(416, 302)\n",
            "(416, 303)\n",
            "(416, 304)\n",
            "(416, 305)\n",
            "(416, 306)\n",
            "(416, 307)\n",
            "(416, 308)\n",
            "(416, 309)\n",
            "(416, 310)\n",
            "(416, 311)\n",
            "(416, 312)\n",
            "(416, 313)\n",
            "(416, 314)\n",
            "(416, 315)\n",
            "(416, 316)\n",
            "(416, 317)\n",
            "(416, 318)\n",
            "(416, 319)\n",
            "(416, 320)\n",
            "(416, 321)\n",
            "(416, 322)\n",
            "(416, 323)\n",
            "(416, 324)\n",
            "(416, 325)\n",
            "(416, 326)\n",
            "(416, 327)\n",
            "(416, 328)\n",
            "(416, 329)\n",
            "(416, 330)\n",
            "(416, 331)\n",
            "(416, 332)\n",
            "(416, 333)\n",
            "(416, 334)\n",
            "(416, 335)\n",
            "(416, 336)\n",
            "(416, 337)\n",
            "(416, 338)\n",
            "(416, 339)\n",
            "(416, 340)\n",
            "(416, 341)\n",
            "(416, 342)\n",
            "(416, 343)\n",
            "(416, 344)\n",
            "(416, 345)\n",
            "(416, 346)\n",
            "(416, 347)\n",
            "(416, 348)\n",
            "(416, 349)\n",
            "(416, 350)\n",
            "(416, 351)\n",
            "(416, 352)\n",
            "(416, 353)\n",
            "(416, 354)\n",
            "(416, 355)\n",
            "(416, 356)\n",
            "(416, 357)\n",
            "(416, 358)\n",
            "(416, 359)\n",
            "(416, 360)\n",
            "(416, 361)\n",
            "(416, 362)\n",
            "(416, 363)\n",
            "(416, 364)\n",
            "(416, 365)\n",
            "(416, 366)\n",
            "(416, 367)\n",
            "(416, 368)\n",
            "(416, 369)\n",
            "(416, 370)\n",
            "(416, 371)\n",
            "(416, 372)\n",
            "(416, 373)\n",
            "(416, 374)\n",
            "(416, 375)\n",
            "(416, 376)\n",
            "(416, 377)\n",
            "(416, 378)\n",
            "(416, 379)\n",
            "(416, 380)\n",
            "(416, 381)\n",
            "(416, 382)\n",
            "(416, 383)\n",
            "(416, 384)\n",
            "(416, 385)\n",
            "(416, 386)\n",
            "(416, 387)\n",
            "(416, 388)\n",
            "(416, 389)\n",
            "(416, 390)\n",
            "(416, 391)\n",
            "(416, 392)\n",
            "(416, 393)\n",
            "(416, 394)\n",
            "(416, 395)\n",
            "(416, 396)\n",
            "(416, 397)\n",
            "(416, 398)\n",
            "(416, 399)\n",
            "(416, 400)\n",
            "(416, 401)\n",
            "(416, 402)\n",
            "(416, 403)\n",
            "(416, 404)\n",
            "(416, 405)\n",
            "(416, 406)\n",
            "(416, 407)\n",
            "(416, 408)\n",
            "(416, 409)\n",
            "(416, 410)\n",
            "(416, 411)\n",
            "(416, 412)\n",
            "(416, 413)\n",
            "(416, 414)\n",
            "(416, 415)\n"
          ],
          "name": "stdout"
        },
        {
          "output_type": "execute_result",
          "data": {
            "text/plain": [
              "[<matplotlib.lines.Line2D at 0x7f7445ac84e0>]"
            ]
          },
          "metadata": {
            "tags": []
          },
          "execution_count": 77
        },
        {
          "output_type": "display_data",
          "data": {
            "image/png": "[encoded data removed]",
            "text/plain": [
              "<Figure size 432x288 with 1 Axes>"
            ]
          },
          "metadata": {
            "tags": []
          }
        }
      ]
    },
    {
      "cell_type": "code",
      "metadata": {
        "id": "vnEqKsE7gQaI",
        "colab_type": "code",
        "pycharm": {
          "is_executing": false
        },
        "colab": {}
      },
      "source": [
        "#---------------------------------- QUESTION 2 -------------------------------------------#\n",
        "# Split the data into 4 parts (104 images each)\n",
        "# train_data = np.split(data_train, 4)\n",
        "# test_data = np.split(data_test, 4)\n",
        "# train_label = np.split(label_train, 4)\n",
        "# test_label = np.split(label_test, 4)\n",
        "\n",
        "def splitSubset(data, label, sNum):\n",
        "  d_train = []\n",
        "  l_train = []\n",
        "\n",
        "  for i in range(0, 416, 8):\n",
        "      d_train.append(data[i+sNum:i+sNum+2])\n",
        "      l_train.append(label[i+sNum:i+sNum+2])\n",
        "\n",
        "  return d_train, l_train\n",
        "\n",
        "\n",
        "d_train = []\n",
        "l_train = []\n",
        "\n",
        "for i in range(4):\n",
        "  data, label = splitSubset(data_train, label_train, i*2)\n",
        "  d_train.append(np.asarray(data).T)\n",
        "  l_train.append(label)\n",
        "\n",
        "# da_train = np.reshape(d_train[0],(2576,-1))\n",
        "d_train = np.asarray(d_train)\n",
        " \n",
        "da_train = []\n",
        "\n",
        "for i in range(0, 4):\n",
        "  da_train.append(np.reshape(d_train[i],(2576,-1)))\n",
        "\n",
        "np.asarray(da_train)\n",
        "\n",
        "\n",
        "# da_train = np.reshape(d_train[0],(2576,-1))\n",
        "def createA(data):\n",
        "  avg = np.mean(data, axis = 0)\n",
        "  A = np.empty([0,2576])\n",
        "  for i in range(len(data)):\n",
        "    app = np.array([data[i] - avg])\n",
        "    newA = np.append(A, app, axis = 0)\n",
        "    A = newA\n",
        "  A = A.T\n",
        "  return  A, avg\n",
        "\n",
        "def PCA(A, S, M, N):\n",
        "  Meigvals, Meigvecs = eigh(S, eigvals=(N-M, N-1))\n",
        "\n",
        "  eigvecsM = Meigvecs.astype(float)\n",
        "  eigvecsM = preprocessing.normalize(np.dot(A, eigvecsM).T)\n",
        "  return eigvecsM\n"
      ],
      "execution_count": 0,
      "outputs": []
    },
    {
      "cell_type": "code",
      "metadata": {
        "id": "OJOq7f2Hkc8K",
        "colab_type": "code",
        "pycharm": {
          "is_executing": false
        },
        "colab": {}
      },
      "source": [
        "# PCA trained by only the first subset\n",
        "train_data = d_train\n",
        "\n",
        "#subtract the mean face of dataset 1\n",
        "A=[None] * 4\n",
        "A[0], avg1 = createA(train_data[0])\n",
        "\n",
        "print(len(A[0]))\n",
        "\n",
        "#Low-dimensional computation of eigenspace of dataset 1\n",
        "S = np.dot(A[0].T, A[0])*1/len(train_data[0])\n",
        "N=len(train_data[0])\n",
        "M=len(train_data[0])\n",
        "print(\"N\", N, \"M\", M)\n",
        "eigvecsM = PCA(A[0], S, M, N)\n",
        "print(type(S))"
      ],
      "execution_count": 0,
      "outputs": []
    },
    {
      "cell_type": "code",
      "metadata": {
        "id": "4aTxeOoKmvqe",
        "colab_type": "code",
        "pycharm": {
          "is_executing": false
        },
        "colab": {}
      },
      "source": [
        "# Calculating the reconstruction error for dataset 1\n",
        "x = []\n",
        "y = []\n",
        "for M in range(1,N):\n",
        "  Meigvals_new, Meigvecs_new = eigh(S, eigvals=(N-M, N-1))\n",
        "  J = np.absolute(np.sum(Meigvals)-np.sum(Meigvals_new))\n",
        "  x.append(M)\n",
        "  y.append(J)\n",
        "  \n",
        "\n",
        "plt.xlabel('No. of Eigenvalues')\n",
        "plt.ylabel('Absolute Error')\n",
        "plt.plot(x,y)"
      ],
      "execution_count": 0,
      "outputs": []
    },
    {
      "cell_type": "code",
      "metadata": {
        "id": "AHdKzqrIA757",
        "colab_type": "code",
        "pycharm": {
          "is_executing": false
        },
        "colab": {}
      },
      "source": [
        "x=[]\n",
        "y=[]\n",
        "\n",
        "for M in range(1,N):\n",
        "  Meigvals_new, Meigvecs_new = eigh(S, eigvals=(N-M, N-1))\n",
        "\n",
        "  eigvecsM = Meigvecs_new.astype(float)\n",
        "  eigvecsM = preprocessing.normalize(np.dot(A[0], eigvecsM).T)\n",
        "  total = 0\n",
        "  correct = 0\n",
        "\n",
        "  W = np.dot(A[0].T, eigvecsM.T)\n",
        "  for test_index in range(len(test_data[0])):\n",
        "    test_face_normalized = test_data[0][test_index] - avg1\n",
        "    W_test = np.dot(test_face_normalized, eigvecsM.T)\n",
        "    im = get_neighbors(W, train_label[0], W_test, 1, distance=distance)\n",
        "    image, _, label= im[0]\n",
        "    if label == test_label[0][test_index]:\n",
        "      correct += 1\n",
        "    total += 1\n",
        "  x.append(M)\n",
        "  y.append(correct/total)\n",
        "\n",
        "plt.xlabel('No. of Eigenvectors')\n",
        "plt.ylabel('Accuracy')\n",
        "plt.plot(x,y)"
      ],
      "execution_count": 0,
      "outputs": []
    },
    {
      "cell_type": "code",
      "metadata": {
        "id": "t9DrAqxGoivr",
        "colab_type": "code",
        "pycharm": {
          "is_executing": false
        },
        "colab": {}
      },
      "source": [
        "def incremental_PCA(mean1, mean2, N1, N2, eigvecs1, eigvecs2, S1, S2):\n",
        "  N3 = N1 + N2\n",
        "  mean3 = (N1*mean1 + N2*mean2)/N3\n",
        "  S3 = (N1/N3)*S1 + (N2/N3)*S2 + ((N1*N2)/(N3**2))*np.dot((mean1-mean2),(mean1-mean2).T)\n",
        "  phi = np.concatenate([eigvecs1.T, eigvecs2.T, (np.asarray([mean1-mean2])).reshape(2576, -1)], axis = 1)\n",
        "  phi, _ =  np.linalg.qr(phi)\n",
        "  matrix = np.dot((phi.T), S3)\n",
        "  matrix = np.dot(matrix, phi)\n",
        "  eigvals, R = np.linalg.eig(matrix)\n",
        "  eigvecs = np.dot(phi, R).T\n",
        "  print((eigvecs1.T.shape))\n",
        "  return eigvals, eigvecs, mean3, S3, N3"
      ],
      "execution_count": 0,
      "outputs": []
    },
    {
      "cell_type": "code",
      "metadata": {
        "id": "87N0TAE2m6GK",
        "colab_type": "code",
        "pycharm": {
          "is_executing": false
        },
        "colab": {}
      },
      "source": [
        "#Incremental PCA\n",
        "\n",
        "# High dimensional calculation of S1 required for incremental PCA\n",
        "S1 = np.dot(A[0], A[0].T)*1/len(train_data[0])\n",
        "# avg_1 = avg_1\n",
        "N1 = N\n",
        "print(N)\n",
        "Sbatch = [None]*4\n",
        "# Sbatch[0] = S1; but this line is not required as S1 is already assigned\n",
        "# Assuming the first batch has been carried out (in the cells above)\n",
        "# The following loop incrementally adds new data batches to calculate S3\n",
        "eigvecs1 = eigvecsM\n",
        "for batch in range(1, 4):\n",
        "\n",
        "  # Creating A2 to calculate S2\n",
        "  A[batch], avg2 = createA(train_data[batch])\n",
        "  N2 = len(A[batch])\n",
        "  print(N2)\n",
        "\n",
        "  # Low dimensional calculation of S2 to find eigvecs faster\n",
        "  Sbatch[batch] = np.dot(A[batch].T, A[batch])*1/len(train_data[batch])\n",
        "  \n",
        "  eigvals2, eigvecs2 = np.linalg.eig(Sbatch[batch])\n",
        "  eigvecs2 = eigvecs2.astype(float)\n",
        "  eigvecs2 = preprocessing.normalize(np.dot(A[batch], eigvecs2).T)\n",
        "  # High dimensional calculation of S2 as required for incremental PCA\n",
        "  S2 = np.dot(A[batch], A[batch].T)*1/len(train_data[batch])\n",
        "  # Incremental PCA done on 2 data sets\n",
        "  print(\"Eigvecs1\", eigvecs1.shape, \"Eigvecs2\", eigvecs2.shape)\n",
        "  eigvals3, eigvecs3, avg3, S3, N3 = incremental_PCA(avg1, avg2, N1, N2, eigvecs1, eigvecs2, S1, S2)\n",
        " \n",
        "  \n",
        "  # In the next iteration we want S1 to be the current cumulative S3\n",
        "  S1 = S3\n",
        "  N1 = N3\n",
        "  avg1 = avg3\n",
        "  eigvecs1 = eigvecs3\n",
        "\n",
        "\n",
        "\n",
        "print(S3.shape, eigvecs3.shape)\n",
        "\n"
      ],
      "execution_count": 0,
      "outputs": []
    },
    {
      "cell_type": "code",
      "metadata": {
        "id": "F0vBnnkZd7cH",
        "colab_type": "code",
        "pycharm": {
          "is_executing": false
        },
        "colab": {}
      },
      "source": [
        "# face reconstruction with Incremental PCA eigvecs\n",
        "A, avg = createA(data_train)\n",
        "print(A.shape)\n",
        "Wn = np.dot(A[:,[100]].T, eigvecs3.T)\n",
        "print(Wn.shape)\n",
        "sumCols = np.dot(Wn, eigvecs3)\n",
        "\n",
        "#reconstruct \n",
        "reconstructed_face = np.absolute(avg.reshape((2576,1)) + sumCols.T)\n",
        "reconstructed_face = np.reshape(reconstructed_face,(46,56))\n",
        "#new_100 = (255-np.reshape(new_100,(46,56)))\n",
        "plt.imshow(reconstructed_face.T, cmap = 'gist_gray')\n"
      ],
      "execution_count": 0,
      "outputs": []
    },
    {
      "cell_type": "code",
      "metadata": {
        "id": "4q8rmdZVWMp6",
        "colab_type": "code",
        "pycharm": {
          "is_executing": false
        },
        "colab": {}
      },
      "source": [
        "# sorting eigvecs by largest eigvals\n",
        "idx = eigvals3.argsort()[::-1]   \n",
        "eigvals3 = eigvals3[idx]\n",
        "eigvecs3 = eigvecs3[idx,:]"
      ],
      "execution_count": 0,
      "outputs": []
    },
    {
      "cell_type": "code",
      "metadata": {
        "id": "NbCBz4Ym9IV5",
        "colab_type": "code",
        "pycharm": {
          "is_executing": false
        },
        "colab": {}
      },
      "source": [
        "# Calculating the reconstruction error for incremental PCA\n",
        "x = []\n",
        "y = []\n",
        "for M in range(1,419):\n",
        "  J = np.absolute(np.sum(eigvals3)-np.sum(eigvals3[:M]))\n",
        "  x.append(M)\n",
        "  y.append(J)\n",
        "  \n",
        "\n",
        "plt.xlabel('No. of Eigenvalues')\n",
        "plt.ylabel('Absolute Error')\n",
        "plt.plot(x,y)"
      ],
      "execution_count": 0,
      "outputs": []
    },
    {
      "cell_type": "code",
      "metadata": {
        "id": "2TTCu0v29IMp",
        "colab_type": "code",
        "pycharm": {
          "is_executing": false
        },
        "colab": {}
      },
      "source": [
        "# face recognition accuracy with incremental PCA\n",
        "\n",
        "x=[]\n",
        "y=[]\n",
        "print(eigvecs3.shape)\n",
        "for M in range(1,416):\n",
        "  eigvecsM = eigvecs3[:M]\n",
        "  total = 0\n",
        "  correct = 0\n",
        "  W = np.dot(A.T, eigvecsM.T)\n",
        "  for test_index in range(len(data_test)):\n",
        "    test_face_normalized = data_test[test_index] - avg\n",
        "    W_test = np.dot(test_face_normalized, eigvecsM.T)\n",
        "    im = get_neighbors(W, label_train, W_test, 1, distance=distance)\n",
        "    image, _, label= im[0]\n",
        "    if label == label_test[test_index]:\n",
        "      correct += 1\n",
        "    total += 1\n",
        "  x.append(M)\n",
        "  y.append(correct/total)\n",
        "\n",
        "plt.xlabel('No. of Eigenvectors')\n",
        "plt.ylabel('Accuracy')\n",
        "plt.plot(x,y)"
      ],
      "execution_count": 0,
      "outputs": []
    }
  ]
}