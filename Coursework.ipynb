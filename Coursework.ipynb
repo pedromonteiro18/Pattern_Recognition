{
  "nbformat": 4,
  "nbformat_minor": 0,
  "metadata": {
    "kernelspec": {
      "name": "python3",
      "language": "python",
      "display_name": "Python 3"
    },
    "language_info": {
      "codemirror_mode": {
        "name": "ipython",
        "version": 2
      },
      "file_extension": ".py",
      "mimetype": "text/x-python",
      "name": "python",
      "nbconvert_exporter": "python",
      "pygments_lexer": "ipython2",
      "version": "2.7.16"
    },
    "colab": {
      "name": "Coursework.ipynb",
      "provenance": [],
      "collapsed_sections": [],
      "include_colab_link": true
    },
    "pycharm": {
      "stem_cell": {
        "cell_type": "raw",
        "source": [],
        "metadata": {
          "collapsed": false
        }
      }
    }
  },
  "cells": [
    {
      "cell_type": "markdown",
      "metadata": {
        "id": "view-in-github",
        "colab_type": "text"
      },
      "source": [
        "<a href=\"https://colab.research.google.com/github/pedromonteiro18/Pattern_Recognition/blob/Ryan/Coursework.ipynb\" target=\"_parent\"><img src=\"https://colab.research.google.com/assets/colab-badge.svg\" alt=\"Open In Colab\"/></a>"
      ]
    },
    {
      "cell_type": "code",
      "metadata": {
        "id": "_XDZ9jNnLS3r",
        "colab_type": "code",
        "pycharm": {
          "is_executing": false
        },
        "colab": {}
      },
      "source": [
        "import scipy.io as sio\n",
        "import numpy as np\n",
        "import matplotlib.pyplot as plt\n",
        "from sklearn.model_selection import train_test_split\n",
        "from scipy.linalg import eigh\n",
        "\n",
        "\n",
        "mat_content = sio.loadmat('face.mat')\n",
        "1\n",
        "# mat_content # Let's see the content... \n",
        "np.random.seed(1)"
      ],
      "execution_count": 0,
      "outputs": []
    },
    {
      "cell_type": "code",
      "metadata": {
        "id": "eNglKw_rLS3x",
        "colab_type": "code",
        "pycharm": {
          "is_executing": false
        },
        "colab": {}
      },
      "source": [
        "face_data = mat_content['X']\n",
        "face_labels = mat_content['l']\n",
        "\n",
        "#transpose to select test and training data\n",
        "face_data = face_data\n",
        "face_labels = face_labels"
      ],
      "execution_count": 0,
      "outputs": []
    },
    {
      "cell_type": "code",
      "metadata": {
        "id": "Ep6CxjH3LS3z",
        "colab_type": "code",
        "pycharm": {
          "is_executing": false
        },
        "colab": {}
      },
      "source": [
        "#20/80 test/training split\n",
        "data_train, data_test, label_train, label_test = train_test_split(\n",
        "    face_data.T, face_labels.T, test_size=0.2, random_state =1 )"
      ],
      "execution_count": 0,
      "outputs": []
    },
    {
      "cell_type": "code",
      "metadata": {
        "id": "P4Ct5BuELS32",
        "colab_type": "code",
        "outputId": "04d7015c-be20-4fd1-91cc-eef18d47403f",
        "pycharm": {
          "is_executing": false
        },
        "colab": {
          "base_uri": "https://localhost:8080/",
          "height": 284
        }
      },
      "source": [
        "#compute average face vector\n",
        "avg = np.mean(data_train, axis = 0)\n",
        "plt.imshow(np.reshape(avg,(46,56)).T, cmap = 'gist_gray')"
      ],
      "execution_count": 6,
      "outputs": [
        {
          "output_type": "execute_result",
          "data": {
            "text/plain": [
              "<matplotlib.image.AxesImage at 0x7f3e632fffd0>"
            ]
          },
          "metadata": {
            "tags": []
          },
          "execution_count": 6
        },
        {
          "output_type": "display_data",
          "data": {
            "image/png": "[encoded data removed]",
            "text/plain": [
              "<Figure size 432x288 with 1 Axes>"
            ]
          },
          "metadata": {
            "tags": []
          }
        }
      ]
    },
    {
      "cell_type": "code",
      "metadata": {
        "id": "8BVO5SVALS34",
        "colab_type": "code",
        "pycharm": {
          "is_executing": false
        },
        "colab": {}
      },
      "source": [
        "#subtract the mean face \n",
        "A = np.array([(data_train[0] - avg),(data_train[1] - avg)])\n",
        "\n",
        "for i in range(2,len(data_train)):\n",
        "    app = np.array([data_train[i] - avg])\n",
        "    newA = np.append(A, app, axis = 0)\n",
        "    A = newA\n",
        "A = A.T"
      ],
      "execution_count": 0,
      "outputs": []
    },
    {
      "cell_type": "code",
      "metadata": {
        "id": "uTQZlJv1LS36",
        "colab_type": "code",
        "pycharm": {
          "is_executing": false
        },
        "colab": {}
      },
      "source": [
        "#compute covariance matrix \n",
        "S = np.dot(A, A.T)*1/len(data_train)\n",
        "\n",
        "#Low-dimensional computation of eigenspace \n",
        "S2 = np.dot(A.T, A)*1/len(data_train)"
      ],
      "execution_count": 0,
      "outputs": []
    },
    {
      "cell_type": "code",
      "metadata": {
        "id": "qXUHz5LjLS38",
        "colab_type": "code",
        "pycharm": {
          "is_executing": false
        },
        "colab": {}
      },
      "source": [
        "# eigenvectors and eigenvalues\n",
        "eigvals, eigvecs = np.linalg.eig(S)\n",
        "eigvalsLow, eigvecsLow = np.linalg.eig(S2)\n",
        "# print(eigvalsLow, eigvecsLow)"
      ],
      "execution_count": 0,
      "outputs": []
    },
    {
      "cell_type": "code",
      "metadata": {
        "id": "LyrZdj48LS3_",
        "colab_type": "code",
        "outputId": "b808d3ec-e60b-4ec8-9f5a-96ca9acd69df",
        "pycharm": {
          "is_executing": false
        },
        "colab": {
          "base_uri": "https://localhost:8080/",
          "height": 34
        }
      },
      "source": [
        "from sklearn import preprocessing\n",
        "N=S2.shape[0]\n",
        "M = 416\n",
        "Meigvals, Meigvecs = eigh(S2, eigvals=(N-M, N-1))\n",
        "\n",
        "eigvecsM = Meigvecs.astype(float)\n",
        "eigvecsM = preprocessing.normalize(np.dot(A, eigvecsM).T)\n",
        "\n",
        "#represent each normalized face by its projections\n",
        "Wn = np.dot(A[:,[100]].T, eigvecsM.T)\n",
        "print(Wn.shape)\n",
        "# print(np.sort(eigvalsLow)[::-1])\n"
      ],
      "execution_count": 24,
      "outputs": [
        {
          "output_type": "stream",
          "text": [
            "(1, 416)\n"
          ],
          "name": "stdout"
        }
      ]
    },
    {
      "cell_type": "code",
      "metadata": {
        "id": "oAU-aojSLS4B",
        "colab_type": "code",
        "outputId": "2bbc2ccd-1d4d-4817-c6a7-905288077c4c",
        "pycharm": {
          "is_executing": false
        },
        "colab": {
          "base_uri": "https://localhost:8080/",
          "height": 284
        }
      },
      "source": [
        "#reconstruction test face \n",
        "face_100 = data_train.T[:,100]\n",
        "face_100 = np.reshape(face_100,(46,56))\n",
        "plt.imshow(face_100.T, cmap= 'gist_gray')"
      ],
      "execution_count": 11,
      "outputs": [
        {
          "output_type": "execute_result",
          "data": {
            "text/plain": [
              "<matplotlib.image.AxesImage at 0x7f3e6337ed30>"
            ]
          },
          "metadata": {
            "tags": []
          },
          "execution_count": 11
        },
        {
          "output_type": "display_data",
          "data": {
            "image/png": "[encoded data removed]",
            "text/plain": [
              "<Figure size 432x288 with 1 Axes>"
            ]
          },
          "metadata": {
            "tags": []
          }
        }
      ]
    },
    {
      "cell_type": "code",
      "metadata": {
        "id": "y45vqM_YLS4D",
        "colab_type": "code",
        "outputId": "65aceacc-8743-45b6-f43d-8a52f4ce97ba",
        "pycharm": {
          "is_executing": false
        },
        "colab": {
          "base_uri": "https://localhost:8080/",
          "height": 284
        }
      },
      "source": [
        "# sumCols = np.array([[None for x in range(2576)] for y in range(1)]).T\n",
        "# sumCols = Wn[:,0].reshape(-1,1)\n",
        "# for i in range(1, len(Wn[0])):\n",
        "#     cols = Wn[:,i].reshape(-1,1)\n",
        "#     sumCols += np.reshape(cols, (2576, 1))\n",
        "sumCols = np.dot(Wn, eigvecsM)\n",
        "\n",
        "#reconstruct \n",
        "new_100 = avg.reshape((2576,1)) + sumCols.T\n",
        "new_100 = np.reshape(new_100,(46,56))\n",
        "#new_100 = (255-np.reshape(new_100,(46,56)))\n",
        "plt.imshow(new_100.T, cmap = 'gist_gray')"
      ],
      "execution_count": 29,
      "outputs": [
        {
          "output_type": "execute_result",
          "data": {
            "text/plain": [
              "<matplotlib.image.AxesImage at 0x7f3e5e1877b8>"
            ]
          },
          "metadata": {
            "tags": []
          },
          "execution_count": 29
        },
        {
          "output_type": "display_data",
          "data": {
            "image/png": "[encoded data removed]",
            "text/plain": [
              "<Figure size 432x288 with 1 Axes>"
            ]
          },
          "metadata": {
            "tags": []
          }
        }
      ]
    },
    {
      "cell_type": "code",
      "metadata": {
        "id": "MDZniFdILS4F",
        "colab_type": "code",
        "outputId": "2adfd862-603b-422b-f1c1-3aa6d3df1e4a",
        "pycharm": {
          "is_executing": false
        },
        "colab": {
          "base_uri": "https://localhost:8080/",
          "height": 284
        }
      },
      "source": [
        "def distance(instance1, instance2):\n",
        "    # just in case, if the instances are lists or tuples:\n",
        "    instance1 = np.array(instance1) \n",
        "    instance2 = np.array(instance2)\n",
        "    \n",
        "    return np.linalg.norm(instance1 - instance2)\n",
        "  \n",
        "def get_neighbors(training_set, \n",
        "                  labels, \n",
        "                  test_instance, \n",
        "                  k, \n",
        "                  distance=distance):\n",
        "    \"\"\"\n",
        "    get_neighors calculates a list of the k nearest neighbors\n",
        "    of an instance 'test_instance'.\n",
        "    The list neighbors contains 3-tuples with  \n",
        "    (index, dist, label)\n",
        "    where \n",
        "    index    is the index from the training_set, \n",
        "    dist     is the distance between the test_instance and the \n",
        "             instance training_set[index]\n",
        "    distance is a reference to a function used to calculate the \n",
        "             distances\n",
        "    \"\"\"\n",
        "    distances = []\n",
        "    for index in range(len(training_set)):\n",
        "        dist = distance(test_instance, training_set[index])\n",
        "        distances.append((training_set[index], dist, labels[index]))\n",
        "    distances.sort(key=lambda x: x[1])\n",
        "    neighbors = distances[:k]\n",
        "    return neighbors\n",
        "\n",
        "\n",
        "im = get_neighbors(data_train, label_train, data_train[100], 1, distance=distance)\n",
        "image, _, _= im[0]\n",
        "im = np.reshape(image,(46,56))\n",
        "plt.imshow(im.T, cmap= 'gist_gray')"
      ],
      "execution_count": 13,
      "outputs": [
        {
          "output_type": "execute_result",
          "data": {
            "text/plain": [
              "<matplotlib.image.AxesImage at 0x7f3e5e58b3c8>"
            ]
          },
          "metadata": {
            "tags": []
          },
          "execution_count": 13
        },
        {
          "output_type": "display_data",
          "data": {
            "image/png": "[encoded data removed]",
            "text/plain": [
              "<Figure size 432x288 with 1 Axes>"
            ]
          },
          "metadata": {
            "tags": []
          }
        }
      ]
    },
    {
      "cell_type": "code",
      "metadata": {
        "id": "Q5ua9s97es55",
        "colab_type": "code",
        "pycharm": {
          "is_executing": false
        },
        "colab": {}
      },
      "source": [
        "# test"
      ],
      "execution_count": 0,
      "outputs": []
    }
  ]
}