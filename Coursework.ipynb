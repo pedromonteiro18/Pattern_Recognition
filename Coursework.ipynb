{
  "nbformat": 4,
  "nbformat_minor": 0,
  "metadata": {
    "kernelspec": {
      "name": "python3",
      "language": "python",
      "display_name": "Python 3"
    },
    "language_info": {
      "codemirror_mode": {
        "name": "ipython",
        "version": 2
      },
      "file_extension": ".py",
      "mimetype": "text/x-python",
      "name": "python",
      "nbconvert_exporter": "python",
      "pygments_lexer": "ipython2",
      "version": "2.7.16"
    },
    "colab": {
      "name": "Coursework.ipynb",
      "provenance": [],
      "collapsed_sections": [],
      "include_colab_link": true
    },
    "pycharm": {
      "stem_cell": {
        "cell_type": "raw",
        "source": [],
        "metadata": {
          "collapsed": false
        }
      }
    }
  },
  "cells": [
    {
      "cell_type": "markdown",
      "metadata": {
        "id": "view-in-github",
        "colab_type": "text"
      },
      "source": [
        "<a href=\"https://colab.research.google.com/github/pedromonteiro18/Pattern_Recognition/blob/master/Coursework.ipynb\" target=\"_parent\"><img src=\"https://colab.research.google.com/assets/colab-badge.svg\" alt=\"Open In Colab\"/></a>"
      ]
    },
    {
      "cell_type": "code",
      "metadata": {
        "id": "_XDZ9jNnLS3r",
        "colab_type": "code",
        "pycharm": {
          "is_executing": false
        },
        "colab": {}
      },
      "source": [
        "import scipy.io as sio\n",
        "import numpy as np\n",
        "import matplotlib.pyplot as plt\n",
        "from sklearn.model_selection import train_test_split\n",
        "from scipy.linalg import eigh\n",
        "\n",
        "\n",
        "mat_content = sio.loadmat('face.mat')\n",
        "1\n",
        "# mat_content # Let's see the content... \n",
        "np.random.seed(1)"
      ],
      "execution_count": 0,
      "outputs": []
    },
    {
      "cell_type": "code",
      "metadata": {
        "id": "eNglKw_rLS3x",
        "colab_type": "code",
        "pycharm": {
          "is_executing": false
        },
        "colab": {}
      },
      "source": [
        "face_data = mat_content['X']\n",
        "face_labels = mat_content['l']\n",
        "\n",
        "#transpose to select test and training data\n",
        "face_data = face_data\n",
        "face_labels = face_labels"
      ],
      "execution_count": 0,
      "outputs": []
    },
    {
      "cell_type": "code",
      "metadata": {
        "id": "Ep6CxjH3LS3z",
        "colab_type": "code",
        "pycharm": {
          "is_executing": false
        },
        "colab": {}
      },
      "source": [
        "#20/80 test/training split\n",
        "data_train, data_test, label_train, label_test = train_test_split(\n",
        "    face_data.T, face_labels.T, test_size=0.2, random_state =1 )"
      ],
      "execution_count": 0,
      "outputs": []
    },
    {
      "cell_type": "code",
      "metadata": {
        "id": "P4Ct5BuELS32",
        "colab_type": "code",
        "outputId": "b9e8b429-68fa-4cff-964d-748f5590fc33",
        "pycharm": {
          "is_executing": false
        },
        "colab": {
          "base_uri": "https://localhost:8080/",
          "height": 284
        }
      },
      "source": [
        "#compute average face vector\n",
        "avg = np.mean(data_train, axis = 0)\n",
        "plt.imshow(np.reshape(avg,(46,56)).T, cmap = 'gist_gray')"
      ],
      "execution_count": 4,
      "outputs": [
        {
          "output_type": "execute_result",
          "data": {
            "text/plain": [
              "<matplotlib.image.AxesImage at 0x7fa7b27fa978>"
            ]
          },
          "metadata": {
            "tags": []
          },
          "execution_count": 4
        },
        {
          "output_type": "display_data",
          "data": {
            "image/png": "[encoded data removed]",
            "text/plain": [
              "<Figure size 432x288 with 1 Axes>"
            ]
          },
          "metadata": {
            "tags": []
          }
        }
      ]
    },
    {
      "cell_type": "code",
      "metadata": {
        "id": "8BVO5SVALS34",
        "colab_type": "code",
        "pycharm": {
          "is_executing": false
        },
        "colab": {}
      },
      "source": [
        "#subtract the mean face \n",
        "A = np.array([(data_train[0] - avg),(data_train[1] - avg)])\n",
        "\n",
        "for i in range(2,len(data_train)):\n",
        "    app = np.array([data_train[i] - avg])\n",
        "    newA = np.append(A, app, axis = 0)\n",
        "    A = newA\n",
        "A = A.T"
      ],
      "execution_count": 0,
      "outputs": []
    },
    {
      "cell_type": "code",
      "metadata": {
        "id": "uTQZlJv1LS36",
        "colab_type": "code",
        "pycharm": {
          "is_executing": false
        },
        "colab": {}
      },
      "source": [
        "#compute covariance matrix \n",
        "S = np.dot(A, A.T)*1/len(data_train)\n",
        "\n",
        "#Low-dimensional computation of eigenspace \n",
        "S2 = np.dot(A.T, A)*1/len(data_train)"
      ],
      "execution_count": 0,
      "outputs": []
    },
    {
      "cell_type": "code",
      "metadata": {
        "id": "qXUHz5LjLS38",
        "colab_type": "code",
        "pycharm": {
          "is_executing": false
        },
        "colab": {}
      },
      "source": [
        "# eigenvectors and eigenvalues\n",
        "eigvals, eigvecs = np.linalg.eig(S)\n",
        "eigvalsLow, eigvecsLow = np.linalg.eig(S2)\n",
        "# print(eigvalsLow, eigvecsLow)"
      ],
      "execution_count": 0,
      "outputs": []
    },
    {
      "cell_type": "code",
      "metadata": {
        "id": "LyrZdj48LS3_",
        "colab_type": "code",
        "outputId": "f368de34-a6fe-42e7-f4dc-22b755ff4d0e",
        "pycharm": {
          "is_executing": false
        },
        "colab": {
          "base_uri": "https://localhost:8080/",
          "height": 34
        }
      },
      "source": [
        "from sklearn import preprocessing\n",
        "N=S2.shape[0]\n",
        "M = 416\n",
        "Meigvals, Meigvecs = eigh(S2, eigvals=(N-M, N-1))\n",
        "\n",
        "eigvecsM = Meigvecs.astype(float)\n",
        "eigvecsM = preprocessing.normalize(np.dot(A, eigvecsM).T)\n",
        "\n",
        "#represent each normalized face by its projections\n",
        "Wn = np.dot(A[:,[100]].T, eigvecsM.T)\n",
        "print(Wn.shape)\n",
        "# print(np.sort(eigvalsLow)[::-1])\n"
      ],
      "execution_count": 8,
      "outputs": [
        {
          "output_type": "stream",
          "text": [
            "(1, 416)\n"
          ],
          "name": "stdout"
        }
      ]
    },
    {
      "cell_type": "code",
      "metadata": {
        "id": "oAU-aojSLS4B",
        "colab_type": "code",
        "outputId": "6389eda7-6a3b-45a4-d406-7458bdfec89e",
        "pycharm": {
          "is_executing": false
        },
        "colab": {
          "base_uri": "https://localhost:8080/",
          "height": 284
        }
      },
      "source": [
        "#reconstruction test face \n",
        "face_100 = data_train.T[:,100]\n",
        "face_100 = np.reshape(face_100,(46,56))\n",
        "plt.imshow(face_100.T, cmap= 'gist_gray')"
      ],
      "execution_count": 9,
      "outputs": [
        {
          "output_type": "execute_result",
          "data": {
            "text/plain": [
              "<matplotlib.image.AxesImage at 0x7fa7b234bb00>"
            ]
          },
          "metadata": {
            "tags": []
          },
          "execution_count": 9
        },
        {
          "output_type": "display_data",
          "data": {
            "image/png": "[encoded data removed]",
            "text/plain": [
              "<Figure size 432x288 with 1 Axes>"
            ]
          },
          "metadata": {
            "tags": []
          }
        }
      ]
    },
    {
      "cell_type": "code",
      "metadata": {
        "id": "y45vqM_YLS4D",
        "colab_type": "code",
        "outputId": "4023b69e-8fcc-45a6-a58e-08c697ca459e",
        "pycharm": {
          "is_executing": false
        },
        "colab": {
          "base_uri": "https://localhost:8080/",
          "height": 284
        }
      },
      "source": [
        "# sumCols = np.array([[None for x in range(2576)] for y in range(1)]).T\n",
        "# sumCols = Wn[:,0].reshape(-1,1)\n",
        "# for i in range(1, len(Wn[0])):\n",
        "#     cols = Wn[:,i].reshape(-1,1)\n",
        "#     sumCols += np.reshape(cols, (2576, 1))\n",
        "sumCols = np.dot(Wn, eigvecsM)\n",
        "\n",
        "#reconstruct \n",
        "new_100 = avg.reshape((2576,1)) + sumCols.T\n",
        "new_100_reshaped = np.reshape(new_100,(46,56))\n",
        "#new_100 = (255-np.reshape(new_100,(46,56)))\n",
        "plt.imshow(new_100_reshaped.T, cmap = 'gist_gray')"
      ],
      "execution_count": 10,
      "outputs": [
        {
          "output_type": "execute_result",
          "data": {
            "text/plain": [
              "<matplotlib.image.AxesImage at 0x7fa7adaafdd8>"
            ]
          },
          "metadata": {
            "tags": []
          },
          "execution_count": 10
        },
        {
          "output_type": "display_data",
          "data": {
            "image/png": "[encoded data removed]",
            "text/plain": [
              "<Figure size 432x288 with 1 Axes>"
            ]
          },
          "metadata": {
            "tags": []
          }
        }
      ]
    },
    {
      "cell_type": "code",
      "metadata": {
        "id": "d__sjKPV73oF",
        "colab_type": "code",
        "outputId": "2c1501c3-948f-4864-9239-e919b1b0af67",
        "colab": {
          "base_uri": "https://localhost:8080/",
          "height": 296
        }
      },
      "source": [
        "# Calculating the reconstruction error\n",
        "x = []\n",
        "y = []\n",
        "for M in range(1,N):\n",
        "  Meigvals_new, Meigvecs_new = eigh(S2, eigvals=(N-M, N-1))\n",
        "  J = np.absolute(np.sum(Meigvals)-np.sum(Meigvals_new))\n",
        "  x.append(M)\n",
        "  y.append(J)\n",
        "\n",
        "plt.xlabel('No. of Eigenvalues')\n",
        "plt.ylabel('Absolute Error')\n",
        "plt.plot(x,y)\n"
      ],
      "execution_count": 11,
      "outputs": [
        {
          "output_type": "execute_result",
          "data": {
            "text/plain": [
              "[<matplotlib.lines.Line2D at 0x7fa7ada9b320>]"
            ]
          },
          "metadata": {
            "tags": []
          },
          "execution_count": 11
        },
        {
          "output_type": "display_data",
          "data": {
            "image/png": "[encoded data removed]",
            "text/plain": [
              "<Figure size 432x288 with 1 Axes>"
            ]
          },
          "metadata": {
            "tags": []
          }
        }
      ]
    },
    {
      "cell_type": "code",
      "metadata": {
        "id": "MDZniFdILS4F",
        "colab_type": "code",
        "outputId": "cdb43abd-e10e-45cf-9eb2-3442b64248ce",
        "pycharm": {
          "is_executing": false
        },
        "colab": {
          "base_uri": "https://localhost:8080/",
          "height": 284
        }
      },
      "source": [
        "def distance(instance1, instance2):\n",
        "    # just in case, if the instances are lists or tuples:\n",
        "    instance1 = np.array(instance1) \n",
        "    instance2 = np.array(instance2)\n",
        "    \n",
        "    return np.linalg.norm(instance1 - instance2)\n",
        "  \n",
        "def get_neighbors(training_set, \n",
        "                  labels, \n",
        "                  test_instance, \n",
        "                  k, \n",
        "                  distance=distance):\n",
        "    \"\"\"\n",
        "    get_neighors calculates a list of the k nearest neighbors\n",
        "    of an instance 'test_instance'.\n",
        "    The list neighbors contains 3-tuples with  \n",
        "    (index, dist, label)\n",
        "    where \n",
        "    index    is the index from the training_set, \n",
        "    dist     is the distance between the test_instance and the \n",
        "             instance training_set[index]\n",
        "    distance is a reference to a function used to calculate the \n",
        "             distances\n",
        "    \"\"\"\n",
        "    distances = []\n",
        "    for index in range(len(training_set)):\n",
        "        dist = distance(test_instance, training_set[index])\n",
        "        distances.append((training_set[index], dist, labels[index]))\n",
        "    distances.sort(key=lambda x: x[1])\n",
        "    neighbors = distances[:k]\n",
        "    return neighbors\n",
        "\n",
        "\n",
        "im = get_neighbors(data_train, label_train, data_train[100], 1, distance=distance)\n",
        "image, _, _= im[0]\n",
        "im = np.reshape(image,(46,56))\n",
        "plt.imshow(im.T, cmap= 'gist_gray')"
      ],
      "execution_count": 12,
      "outputs": [
        {
          "output_type": "execute_result",
          "data": {
            "text/plain": [
              "<matplotlib.image.AxesImage at 0x7fa7ada09978>"
            ]
          },
          "metadata": {
            "tags": []
          },
          "execution_count": 12
        },
        {
          "output_type": "display_data",
          "data": {
            "image/png": "[encoded data removed]",
            "text/plain": [
              "<Figure size 432x288 with 1 Axes>"
            ]
          },
          "metadata": {
            "tags": []
          }
        }
      ]
    },
    {
      "cell_type": "code",
      "metadata": {
        "id": "Q5ua9s97es55",
        "colab_type": "code",
        "pycharm": {
          "is_executing": false
        },
        "colab": {
          "base_uri": "https://localhost:8080/",
          "height": 34
        },
        "outputId": "c8510a54-c4cd-4795-9cfc-4165fee07adb"
      },
      "source": [
        "#---------------------------------- QUESTION 2 -------------------------------------------#\n",
        "# Split the data into 4 parts (104 images each)\n",
        "data_train_1, data_train_2, data_train_3, data_train_4 = np.split(data_train, 4)\n",
        "data_test_1, data_test_2, data_test_3, data_test_4 = np.split(data_test, 4)\n",
        "label_train_1, label_train_2, label_train_3, label_train_4 = np.split(label_train, 4)\n",
        "label_test_1, label_test_2, label_test_3, label_test_4 = np.split(label_test, 4)\n",
        "\n",
        "print(label_train.shape, label_train_1.shape, label_train_2.shape)\n"
      ],
      "execution_count": 21,
      "outputs": [
        {
          "output_type": "stream",
          "text": [
            "(416, 1) (104, 1) (104, 1)\n"
          ],
          "name": "stdout"
        }
      ]
    },
    {
      "cell_type": "code",
      "metadata": {
        "id": "fxKYQiqOwJPL",
        "colab_type": "code",
        "colab": {
          "base_uri": "https://localhost:8080/",
          "height": 284
        },
        "outputId": "4721a124-d8e0-41be-b234-06edbb756f54"
      },
      "source": [
        "# PCA trained by only the first subset\n",
        "\n",
        "#compute average face vector\n",
        "avg_1 = np.mean(data_train_1, axis = 0)\n",
        "plt.imshow(np.reshape(avg_1,(46,56)).T, cmap = 'gist_gray')"
      ],
      "execution_count": 22,
      "outputs": [
        {
          "output_type": "execute_result",
          "data": {
            "text/plain": [
              "<matplotlib.image.AxesImage at 0x7fa7ad711e80>"
            ]
          },
          "metadata": {
            "tags": []
          },
          "execution_count": 22
        },
        {
          "output_type": "display_data",
          "data": {
            "image/png": "[encoded data removed]",
            "text/plain": [
              "<Figure size 432x288 with 1 Axes>"
            ]
          },
          "metadata": {
            "tags": []
          }
        }
      ]
    },
    {
      "cell_type": "code",
      "metadata": {
        "id": "e4UNhVQCyQgN",
        "colab_type": "code",
        "colab": {
          "base_uri": "https://localhost:8080/",
          "height": 34
        },
        "outputId": "ca5d0f5f-937a-4455-a972-40928721d447"
      },
      "source": [
        "#subtract the mean face of dataset 1\n",
        "A1 = np.empty([0,2576])\n",
        "\n",
        "for i in range(len(data_train_1)):\n",
        "    app = np.array([data_train_1[i] - avg_1])\n",
        "    newA = np.append(A1, app, axis = 0)\n",
        "    A1 = newA\n",
        "A1 = A1.T\n",
        "\n",
        "print(len(A1[0]))\n",
        "\n",
        "#Low-dimensional computation of eigenspace of dataset 1\n",
        "S1 = np.dot(A1.T, A1)*1/len(data_train_1)\n",
        "N=S1.shape[0]\n",
        "M=len(A1[0])\n",
        "Meigvals, Meigvecs = eigh(S1, eigvals=(N-M, N-1))\n",
        "\n",
        "eigvecsM = Meigvecs.astype(float)\n",
        "eigvecsM = preprocessing.normalize(np.dot(A1, eigvecsM).T)\n",
        "\n",
        "#represent each normalized face by its projections\n",
        "Wn = np.dot(A[:,[100]].T, eigvecsM.T)\n",
        "print(Wn.shape)\n",
        "# print(np.sort(eigvalsLow)[::-1])\n"
      ],
      "execution_count": 31,
      "outputs": [
        {
          "output_type": "stream",
          "text": [
            "104\n"
          ],
          "name": "stdout"
        }
      ]
    },
    {
      "cell_type": "code",
      "metadata": {
        "id": "5FwD-BFu9nj_",
        "colab_type": "code",
        "colab": {
          "base_uri": "https://localhost:8080/",
          "height": 296
        },
        "outputId": "04af5c19-1e44-496f-bc12-655fe0b27396"
      },
      "source": [
        "# Calculating the reconstruction error for dataset 1\n",
        "x = []\n",
        "y = []\n",
        "for M in range(1,N):\n",
        "  Meigvals_new, Meigvecs_new = eigh(S1, eigvals=(N-M, N-1))\n",
        "  J = np.absolute(np.sum(Meigvals)-np.sum(Meigvals_new))\n",
        "  x.append(M)\n",
        "  y.append(J)\n",
        "\n",
        "plt.xlabel('No. of Eigenvalues')\n",
        "plt.ylabel('Absolute Error')\n",
        "plt.plot(x,y)"
      ],
      "execution_count": 33,
      "outputs": [
        {
          "output_type": "execute_result",
          "data": {
            "text/plain": [
              "[<matplotlib.lines.Line2D at 0x7fa7ad51e908>]"
            ]
          },
          "metadata": {
            "tags": []
          },
          "execution_count": 33
        },
        {
          "output_type": "display_data",
          "data": {
            "image/png": "[encoded data removed]",
            "text/plain": [
              "<Figure size 432x288 with 1 Axes>"
            ]
          },
          "metadata": {
            "tags": []
          }
        }
      ]
    },
    {
      "cell_type": "markdown",
      "metadata": {
        "id": "U3J8vn6l8Dcb",
        "colab_type": "text"
      },
      "source": [
        ""
      ]
    },
    {
      "cell_type": "markdown",
      "metadata": {
        "id": "51ksm2VI2N34",
        "colab_type": "text"
      },
      "source": [
        ""
      ]
    }
  ]
}