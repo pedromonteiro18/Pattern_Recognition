{
  "nbformat": 4,
  "nbformat_minor": 0,
  "metadata": {
    "kernelspec": {
      "name": "python3",
      "language": "python",
      "display_name": "Python 3"
    },
    "language_info": {
      "codemirror_mode": {
        "name": "ipython",
        "version": 2
      },
      "file_extension": ".py",
      "mimetype": "text/x-python",
      "name": "python",
      "nbconvert_exporter": "python",
      "pygments_lexer": "ipython2",
      "version": "2.7.16"
    },
    "colab": {
      "name": "Coursework.ipynb",
      "provenance": [],
      "collapsed_sections": [],
      "include_colab_link": true
    },
    "pycharm": {
      "stem_cell": {
        "cell_type": "raw",
        "source": [],
        "metadata": {
          "collapsed": false
        }
      }
    }
  },
  "cells": [
    {
      "cell_type": "markdown",
      "metadata": {
        "id": "view-in-github",
        "colab_type": "text"
      },
      "source": [
        "<a href=\"https://colab.research.google.com/github/pedromonteiro18/Pattern_Recognition/blob/master/Coursework.ipynb\" target=\"_parent\"><img src=\"https://colab.research.google.com/assets/colab-badge.svg\" alt=\"Open In Colab\"/></a>"
      ]
    },
    {
      "cell_type": "code",
      "metadata": {
        "id": "_XDZ9jNnLS3r",
        "colab_type": "code",
        "pycharm": {
          "is_executing": false
        },
        "colab": {}
      },
      "source": [
        "import scipy.io as sio\n",
        "import numpy as np\n",
        "import matplotlib.pyplot as plt\n",
        "from sklearn.model_selection import train_test_split\n",
        "from scipy.linalg import eigh\n",
        "\n",
        "\n",
        "mat_content = sio.loadmat('face.mat')\n",
        "1\n",
        "# mat_content # Let's see the content... \n",
        "np.random.seed(1)"
      ],
      "execution_count": 0,
      "outputs": []
    },
    {
      "cell_type": "code",
      "metadata": {
        "id": "eNglKw_rLS3x",
        "colab_type": "code",
        "pycharm": {
          "is_executing": false
        },
        "colab": {}
      },
      "source": [
        "face_data = mat_content['X']\n",
        "face_labels = mat_content['l']\n",
        "\n",
        "#transpose to select test and training data\n",
        "face_data = face_data\n",
        "face_labels = face_labels"
      ],
      "execution_count": 0,
      "outputs": []
    },
    {
      "cell_type": "code",
      "metadata": {
        "id": "Ep6CxjH3LS3z",
        "colab_type": "code",
        "pycharm": {
          "is_executing": false
        },
        "colab": {}
      },
      "source": [
        "#20/80 test/training split\n",
        "# data_train, data_test, label_train, label_test = train_test_split(\n",
        "#     face_data.T, face_labels.T, test_size=0.2, random_state =1 )\n",
        "# face_data = face_data.T\n",
        "# face_labels = face_labels.T\n",
        "\n",
        "data_train = np.reshape(face_data[:,:8],(2576,8))\n",
        "data_test= np.reshape(face_data[:,8:10],(2576,2))\n",
        "label_train = np.reshape(face_labels[:,:8],(1,8))\n",
        "label_test = np.reshape(face_labels[:,8:10],(1,2))\n",
        "\n",
        "\n",
        "for i in range(10,520,10):\n",
        "    data_train = np.concatenate((data_train, face_data[:,i:i+8]),axis=1)\n",
        "    data_test = np.concatenate((data_test, face_data[:,i+8:i+10]),axis=1)\n",
        "    label_train = np.concatenate((label_train, face_labels[:,i:i+8]),axis=1)\n",
        "    label_test = np.concatenate((label_test, face_labels[:,i+8:i+10]), axis=1)\n",
        "    \n",
        "data_train = data_train.T\n",
        "data_test = data_test.T\n",
        "label_train = label_train.T\n",
        "label_test = label_test.T\n"
      ],
      "execution_count": 0,
      "outputs": []
    },
    {
      "cell_type": "code",
      "metadata": {
        "id": "P4Ct5BuELS32",
        "colab_type": "code",
        "outputId": "e4b04ffb-8033-4d1b-a54c-3f9e96a047d3",
        "pycharm": {
          "is_executing": false
        },
        "colab": {
          "base_uri": "https://localhost:8080/",
          "height": 284
        }
      },
      "source": [
        "#compute average face vector\n",
        "avg = np.mean(data_train, axis = 0)\n",
        "plt.imshow(np.reshape(avg,(46,56)).T, cmap = 'gist_gray')"
      ],
      "execution_count": 4,
      "outputs": [
        {
          "output_type": "execute_result",
          "data": {
            "text/plain": [
              "<matplotlib.image.AxesImage at 0x7f60aaae9898>"
            ]
          },
          "metadata": {
            "tags": []
          },
          "execution_count": 4
        },
        {
          "output_type": "display_data",
          "data": {
            "image/png": "[encoded data removed]",
            "text/plain": [
              "<Figure size 432x288 with 1 Axes>"
            ]
          },
          "metadata": {
            "tags": []
          }
        }
      ]
    },
    {
      "cell_type": "code",
      "metadata": {
        "id": "8BVO5SVALS34",
        "colab_type": "code",
        "pycharm": {
          "is_executing": false
        },
        "colab": {}
      },
      "source": [
        "#subtract the mean face \n",
        "A = np.array([(data_train[0] - avg),(data_train[1] - avg)])\n",
        "\n",
        "for i in range(2,len(data_train)):\n",
        "    app = np.array([data_train[i] - avg])\n",
        "    newA = np.append(A, app, axis = 0)\n",
        "    A = newA\n",
        "A = A.T"
      ],
      "execution_count": 0,
      "outputs": []
    },
    {
      "cell_type": "code",
      "metadata": {
        "id": "uTQZlJv1LS36",
        "colab_type": "code",
        "pycharm": {
          "is_executing": false
        },
        "colab": {}
      },
      "source": [
        "#compute covariance matrix \n",
        "S = np.dot(A, A.T)*1/len(data_train)\n",
        "\n",
        "#Low-dimensional computation of eigenspace \n",
        "S2 = np.dot(A.T, A)*1/len(data_train)"
      ],
      "execution_count": 0,
      "outputs": []
    },
    {
      "cell_type": "code",
      "metadata": {
        "id": "qXUHz5LjLS38",
        "colab_type": "code",
        "pycharm": {
          "is_executing": false
        },
        "colab": {}
      },
      "source": [
        "# eigenvectors and eigenvalues\n",
        "eigvals, eigvecs = np.linalg.eig(S)\n",
        "eigvalsLow, eigvecsLow = np.linalg.eig(S2)\n",
        "# print(eigvalsLow, eigvecsLow)"
      ],
      "execution_count": 0,
      "outputs": []
    },
    {
      "cell_type": "code",
      "metadata": {
        "id": "LyrZdj48LS3_",
        "colab_type": "code",
        "outputId": "b0afb091-2ad1-405e-f3d1-667ebef698ce",
        "pycharm": {
          "is_executing": false
        },
        "colab": {
          "base_uri": "https://localhost:8080/",
          "height": 33
        }
      },
      "source": [
        "from sklearn import preprocessing\n",
        "N=S2.shape[0]\n",
        "M = 416\n",
        "Meigvals, Meigvecs = eigh(S2, eigvals=(N-M, N-1))\n",
        "\n",
        "eigvecsM = Meigvecs.astype(float)\n",
        "eigvecsM = preprocessing.normalize(np.dot(A, eigvecsM).T)\n",
        "\n",
        "#represent each normalized face by its projections\n",
        "Wn = np.dot(A[:,[100]].T, eigvecsM.T)\n",
        "print(Wn.shape)\n",
        "# print(np.sort(eigvalsLow)[::-1])\n"
      ],
      "execution_count": 8,
      "outputs": [
        {
          "output_type": "stream",
          "text": [
            "(1, 416)\n"
          ],
          "name": "stdout"
        }
      ]
    },
    {
      "cell_type": "code",
      "metadata": {
        "id": "oAU-aojSLS4B",
        "colab_type": "code",
        "outputId": "a352a148-9b07-4199-f746-c54dde39b850",
        "pycharm": {
          "is_executing": false
        },
        "colab": {
          "base_uri": "https://localhost:8080/",
          "height": 284
        }
      },
      "source": [
        "#reconstruction test face \n",
        "face_100 = data_train.T[:,100]\n",
        "face_100 = np.reshape(face_100,(46,56))\n",
        "plt.imshow(face_100.T, cmap= 'gist_gray')"
      ],
      "execution_count": 9,
      "outputs": [
        {
          "output_type": "execute_result",
          "data": {
            "text/plain": [
              "<matplotlib.image.AxesImage at 0x7f60aa63a9b0>"
            ]
          },
          "metadata": {
            "tags": []
          },
          "execution_count": 9
        },
        {
          "output_type": "display_data",
          "data": {
            "image/png": "[encoded data removed]",
            "text/plain": [
              "<Figure size 432x288 with 1 Axes>"
            ]
          },
          "metadata": {
            "tags": []
          }
        }
      ]
    },
    {
      "cell_type": "code",
      "metadata": {
        "id": "y45vqM_YLS4D",
        "colab_type": "code",
        "outputId": "d47c755c-5e95-4a74-f595-835cec81b754",
        "pycharm": {
          "is_executing": false
        },
        "colab": {
          "base_uri": "https://localhost:8080/",
          "height": 284
        }
      },
      "source": [
        "# sumCols = np.array([[None for x in range(2576)] for y in range(1)]).T\n",
        "# sumCols = Wn[:,0].reshape(-1,1)\n",
        "# for i in range(1, len(Wn[0])):\n",
        "#     cols = Wn[:,i].reshape(-1,1)\n",
        "#     sumCols += np.reshape(cols, (2576, 1))\n",
        "sumCols = np.dot(Wn, eigvecsM)\n",
        "\n",
        "#reconstruct \n",
        "new_100 = avg.reshape((2576,1)) + sumCols.T\n",
        "new_100_reshaped = np.reshape(new_100,(46,56))\n",
        "#new_100 = (255-np.reshape(new_100,(46,56)))\n",
        "plt.imshow(new_100_reshaped.T, cmap = 'gist_gray')"
      ],
      "execution_count": 10,
      "outputs": [
        {
          "output_type": "execute_result",
          "data": {
            "text/plain": [
              "<matplotlib.image.AxesImage at 0x7f60a5d9acf8>"
            ]
          },
          "metadata": {
            "tags": []
          },
          "execution_count": 10
        },
        {
          "output_type": "display_data",
          "data": {
            "image/png": "[encoded data removed]",
            "text/plain": [
              "<Figure size 432x288 with 1 Axes>"
            ]
          },
          "metadata": {
            "tags": []
          }
        }
      ]
    },
    {
      "cell_type": "code",
      "metadata": {
        "id": "d__sjKPV73oF",
        "colab_type": "code",
        "outputId": "f0d4353e-15c8-49c4-baf0-6c77aaa8f3a9",
        "pycharm": {
          "is_executing": false
        },
        "colab": {
          "base_uri": "https://localhost:8080/",
          "height": 296
        }
      },
      "source": [
        "# Calculating the reconstruction error\n",
        "x = []\n",
        "y = []\n",
        "for M in range(1,N):\n",
        "  Meigvals_new, Meigvecs_new = eigh(S2, eigvals=(N-M, N-1))\n",
        "  J = np.absolute(np.sum(Meigvals)-np.sum(Meigvals_new))\n",
        "  x.append(M)\n",
        "  y.append(J)\n",
        "\n",
        "plt.xlabel('No. of Eigenvectors')\n",
        "plt.ylabel('Absolute Error')\n",
        "plt.plot(x,y)\n"
      ],
      "execution_count": 11,
      "outputs": [
        {
          "output_type": "execute_result",
          "data": {
            "text/plain": [
              "[<matplotlib.lines.Line2D at 0x7f60a5d89208>]"
            ]
          },
          "metadata": {
            "tags": []
          },
          "execution_count": 11
        },
        {
          "output_type": "display_data",
          "data": {
            "image/png": "[encoded data removed]",
            "text/plain": [
              "<Figure size 432x288 with 1 Axes>"
            ]
          },
          "metadata": {
            "tags": []
          }
        }
      ]
    },
    {
      "cell_type": "code",
      "metadata": {
        "id": "E6MUslT256xT",
        "colab_type": "code",
        "outputId": "d2dd2190-0ac9-4408-c483-2660abccd99f",
        "pycharm": {
          "is_executing": false
        },
        "colab": {
          "base_uri": "https://localhost:8080/",
          "height": 284
        }
      },
      "source": [
        "# nearest neighbour test face\n",
        "test_face = data_test.T[:,25]\n",
        "test_face = np.reshape(test_face,(46,56))\n",
        "plt.imshow(test_face.T, cmap= 'gist_gray')"
      ],
      "execution_count": 12,
      "outputs": [
        {
          "output_type": "execute_result",
          "data": {
            "text/plain": [
              "<matplotlib.image.AxesImage at 0x7f60a5cf10b8>"
            ]
          },
          "metadata": {
            "tags": []
          },
          "execution_count": 12
        },
        {
          "output_type": "display_data",
          "data": {
            "image/png": "[encoded data removed]",
            "text/plain": [
              "<Figure size 432x288 with 1 Axes>"
            ]
          },
          "metadata": {
            "tags": []
          }
        }
      ]
    },
    {
      "cell_type": "code",
      "metadata": {
        "id": "L6t85cet61b0",
        "colab_type": "code",
        "outputId": "8e780363-7fca-465f-d4c8-0e39c1126180",
        "pycharm": {
          "is_executing": false
        },
        "colab": {
          "base_uri": "https://localhost:8080/",
          "height": 84
        }
      },
      "source": [
        "W = np.dot(A.T, eigvecsM.T)\n",
        "print(W.shape)\n",
        "test_face_normalized = data_test[25] - avg \n",
        "print(test_face_normalized.shape)\n",
        "W_test = np.dot(test_face_normalized, eigvecsM.T)\n",
        "print(W_test.shape)\n",
        "print(label_test[25])"
      ],
      "execution_count": 13,
      "outputs": [
        {
          "output_type": "stream",
          "text": [
            "(416, 416)\n",
            "(2576,)\n",
            "(416,)\n",
            "[13]\n"
          ],
          "name": "stdout"
        }
      ]
    },
    {
      "cell_type": "code",
      "metadata": {
        "colab_type": "code",
        "outputId": "8a2401ad-4d98-4035-93c9-ea7f98c3ac7c",
        "pycharm": {
          "is_executing": false
        },
        "id": "b30y2JTYi-oM",
        "colab": {
          "base_uri": "https://localhost:8080/",
          "height": 317
        }
      },
      "source": [
        "def distance(instance1, instance2):\n",
        "    # just in case, if the instances are lists or tuples:\n",
        "    instance1 = np.array(instance1) \n",
        "    instance2 = np.array(instance2)\n",
        "    \n",
        "    return np.linalg.norm(instance1 - instance2)\n",
        "  \n",
        "def get_neighbors(training_set, \n",
        "                  labels, \n",
        "                  test_instance, \n",
        "                  k, \n",
        "                  distance=distance):\n",
        "    \"\"\"\n",
        "    get_neighors calculates a list of the k nearest neighbors\n",
        "    of an instance 'test_instance'.\n",
        "    The list neighbors contains 3-tuples with  \n",
        "    (index, dist, label)\n",
        "    where \n",
        "    index    is the index from the training_set, \n",
        "    dist     is the distance between the test_instance and the \n",
        "             instance training_set[index]\n",
        "    distance is a reference to a function used to calculate the \n",
        "             distances\n",
        "    \"\"\"\n",
        "    distances = []\n",
        "    for index in range(len(training_set)):\n",
        "        dist = distance(test_instance, training_set[index])\n",
        "        distances.append((training_set[index], dist, labels[index]))\n",
        "    distances.sort(key=lambda x: x[1])\n",
        "    neighbors = distances[:k]\n",
        "    return neighbors\n",
        "\n",
        "\n",
        "im = get_neighbors(W, label_train, W_test, 1, distance=distance)\n",
        "print(len(im[0]), len(im))\n",
        "image, _, label= im[0]\n",
        "# im = np.reshape(image,(46,56))\n",
        "# plt.imshow(im.T, cmap= 'gist_gray')\n",
        "sumCols = np.dot(image, eigvecsM)\n",
        "#reconstruct \n",
        "neighbour = avg.reshape((2576,1)) +  np.reshape(sumCols,(2576,1))\n",
        "print(neighbour.shape)\n",
        "neighbour = np.reshape(neighbour,(46,56))\n",
        "#new_100 = (255-np.reshape(new_100,(46,56)))\n",
        "plt.imshow(neighbour.T, cmap = 'gist_gray')\n",
        "print(\"label\", label)"
      ],
      "execution_count": 14,
      "outputs": [
        {
          "output_type": "stream",
          "text": [
            "3 1\n",
            "(2576, 1)\n",
            "label [13]\n"
          ],
          "name": "stdout"
        },
        {
          "output_type": "display_data",
          "data": {
            "image/png": "[encoded data removed]",
            "text/plain": [
              "<Figure size 432x288 with 1 Axes>"
            ]
          },
          "metadata": {
            "tags": []
          }
        }
      ]
    },
    {
      "cell_type": "code",
      "metadata": {
        "id": "YE9naNYxHc3C",
        "colab_type": "code",
        "outputId": "ae3ac478-d9bb-41e2-c93d-6328a48a364f",
        "pycharm": {
          "is_executing": false
        },
        "colab": {
          "base_uri": "https://localhost:8080/",
          "height": 369
        }
      },
      "source": [
        "x=[]\n",
        "y=[]\n",
        "for M in range(1,416):\n",
        "  Meigvals_new, Meigvecs_new = eigh(S2, eigvals=(N-M, N-1))\n",
        "  eigvecsM = Meigvecs_new.astype(float)\n",
        "  eigvecsM = preprocessing.normalize(np.dot(A, eigvecsM).T)\n",
        "  total = 0\n",
        "  correct = 0\n",
        "\n",
        "  W = np.dot(A.T, eigvecsM.T)\n",
        "  for test_index in range(len(data_test)):\n",
        "    test_face_normalized = data_test[test_index] - avg \n",
        "    W_test = np.dot(test_face_normalized, eigvecsM.T)\n",
        "    im = get_neighbors(W, label_train, W_test, 1, distance=distance)\n",
        "    image, _, label= im[0]\n",
        "    if label == label_test[test_index]:\n",
        "      correct += 1\n",
        "    total += 1\n",
        "  x.append(M)\n",
        "  y.append(correct/total)\n",
        "\n",
        "plt.xlabel('No. of Eigenvectors')\n",
        "plt.ylabel('Accuracy')\n",
        "plt.plot(x,y)"
      ],
      "execution_count": 15,
      "outputs": [
        {
          "output_type": "error",
          "ename": "KeyboardInterrupt",
          "evalue": "ignored",
          "traceback": [
            "\u001b[0;31m---------------------------------------------------------------------------\u001b[0m",
            "\u001b[0;31mKeyboardInterrupt\u001b[0m                         Traceback (most recent call last)",
            "\u001b[0;32m<ipython-input-15-fab7bc4b33c3>\u001b[0m in \u001b[0;36m<module>\u001b[0;34m()\u001b[0m\n\u001b[1;32m     12\u001b[0m     \u001b[0mtest_face_normalized\u001b[0m \u001b[0;34m=\u001b[0m \u001b[0mdata_test\u001b[0m\u001b[0;34m[\u001b[0m\u001b[0mtest_index\u001b[0m\u001b[0;34m]\u001b[0m \u001b[0;34m-\u001b[0m \u001b[0mavg\u001b[0m\u001b[0;34m\u001b[0m\u001b[0;34m\u001b[0m\u001b[0m\n\u001b[1;32m     13\u001b[0m     \u001b[0mW_test\u001b[0m \u001b[0;34m=\u001b[0m \u001b[0mnp\u001b[0m\u001b[0;34m.\u001b[0m\u001b[0mdot\u001b[0m\u001b[0;34m(\u001b[0m\u001b[0mtest_face_normalized\u001b[0m\u001b[0;34m,\u001b[0m \u001b[0meigvecsM\u001b[0m\u001b[0;34m.\u001b[0m\u001b[0mT\u001b[0m\u001b[0;34m)\u001b[0m\u001b[0;34m\u001b[0m\u001b[0;34m\u001b[0m\u001b[0m\n\u001b[0;32m---> 14\u001b[0;31m     \u001b[0mim\u001b[0m \u001b[0;34m=\u001b[0m \u001b[0mget_neighbors\u001b[0m\u001b[0;34m(\u001b[0m\u001b[0mW\u001b[0m\u001b[0;34m,\u001b[0m \u001b[0mlabel_train\u001b[0m\u001b[0;34m,\u001b[0m \u001b[0mW_test\u001b[0m\u001b[0;34m,\u001b[0m \u001b[0;36m1\u001b[0m\u001b[0;34m,\u001b[0m \u001b[0mdistance\u001b[0m\u001b[0;34m=\u001b[0m\u001b[0mdistance\u001b[0m\u001b[0;34m)\u001b[0m\u001b[0;34m\u001b[0m\u001b[0;34m\u001b[0m\u001b[0m\n\u001b[0m\u001b[1;32m     15\u001b[0m     \u001b[0mimage\u001b[0m\u001b[0;34m,\u001b[0m \u001b[0m_\u001b[0m\u001b[0;34m,\u001b[0m \u001b[0mlabel\u001b[0m\u001b[0;34m=\u001b[0m \u001b[0mim\u001b[0m\u001b[0;34m[\u001b[0m\u001b[0;36m0\u001b[0m\u001b[0;34m]\u001b[0m\u001b[0;34m\u001b[0m\u001b[0;34m\u001b[0m\u001b[0m\n\u001b[1;32m     16\u001b[0m     \u001b[0;32mif\u001b[0m \u001b[0mlabel\u001b[0m \u001b[0;34m==\u001b[0m \u001b[0mlabel_test\u001b[0m\u001b[0;34m[\u001b[0m\u001b[0mtest_index\u001b[0m\u001b[0;34m]\u001b[0m\u001b[0;34m:\u001b[0m\u001b[0;34m\u001b[0m\u001b[0;34m\u001b[0m\u001b[0m\n",
            "\u001b[0;32m<ipython-input-14-0b6a5e75f831>\u001b[0m in \u001b[0;36mget_neighbors\u001b[0;34m(training_set, labels, test_instance, k, distance)\u001b[0m\n\u001b[1;32m     25\u001b[0m     \u001b[0mdistances\u001b[0m \u001b[0;34m=\u001b[0m \u001b[0;34m[\u001b[0m\u001b[0;34m]\u001b[0m\u001b[0;34m\u001b[0m\u001b[0;34m\u001b[0m\u001b[0m\n\u001b[1;32m     26\u001b[0m     \u001b[0;32mfor\u001b[0m \u001b[0mindex\u001b[0m \u001b[0;32min\u001b[0m \u001b[0mrange\u001b[0m\u001b[0;34m(\u001b[0m\u001b[0mlen\u001b[0m\u001b[0;34m(\u001b[0m\u001b[0mtraining_set\u001b[0m\u001b[0;34m)\u001b[0m\u001b[0;34m)\u001b[0m\u001b[0;34m:\u001b[0m\u001b[0;34m\u001b[0m\u001b[0;34m\u001b[0m\u001b[0m\n\u001b[0;32m---> 27\u001b[0;31m         \u001b[0mdist\u001b[0m \u001b[0;34m=\u001b[0m \u001b[0mdistance\u001b[0m\u001b[0;34m(\u001b[0m\u001b[0mtest_instance\u001b[0m\u001b[0;34m,\u001b[0m \u001b[0mtraining_set\u001b[0m\u001b[0;34m[\u001b[0m\u001b[0mindex\u001b[0m\u001b[0;34m]\u001b[0m\u001b[0;34m)\u001b[0m\u001b[0;34m\u001b[0m\u001b[0;34m\u001b[0m\u001b[0m\n\u001b[0m\u001b[1;32m     28\u001b[0m         \u001b[0mdistances\u001b[0m\u001b[0;34m.\u001b[0m\u001b[0mappend\u001b[0m\u001b[0;34m(\u001b[0m\u001b[0;34m(\u001b[0m\u001b[0mtraining_set\u001b[0m\u001b[0;34m[\u001b[0m\u001b[0mindex\u001b[0m\u001b[0;34m]\u001b[0m\u001b[0;34m,\u001b[0m \u001b[0mdist\u001b[0m\u001b[0;34m,\u001b[0m \u001b[0mlabels\u001b[0m\u001b[0;34m[\u001b[0m\u001b[0mindex\u001b[0m\u001b[0;34m]\u001b[0m\u001b[0;34m)\u001b[0m\u001b[0;34m)\u001b[0m\u001b[0;34m\u001b[0m\u001b[0;34m\u001b[0m\u001b[0m\n\u001b[1;32m     29\u001b[0m     \u001b[0mdistances\u001b[0m\u001b[0;34m.\u001b[0m\u001b[0msort\u001b[0m\u001b[0;34m(\u001b[0m\u001b[0mkey\u001b[0m\u001b[0;34m=\u001b[0m\u001b[0;32mlambda\u001b[0m \u001b[0mx\u001b[0m\u001b[0;34m:\u001b[0m \u001b[0mx\u001b[0m\u001b[0;34m[\u001b[0m\u001b[0;36m1\u001b[0m\u001b[0;34m]\u001b[0m\u001b[0;34m)\u001b[0m\u001b[0;34m\u001b[0m\u001b[0;34m\u001b[0m\u001b[0m\n",
            "\u001b[0;32m<ipython-input-14-0b6a5e75f831>\u001b[0m in \u001b[0;36mdistance\u001b[0;34m(instance1, instance2)\u001b[0m\n\u001b[0;32m----> 1\u001b[0;31m \u001b[0;32mdef\u001b[0m \u001b[0mdistance\u001b[0m\u001b[0;34m(\u001b[0m\u001b[0minstance1\u001b[0m\u001b[0;34m,\u001b[0m \u001b[0minstance2\u001b[0m\u001b[0;34m)\u001b[0m\u001b[0;34m:\u001b[0m\u001b[0;34m\u001b[0m\u001b[0;34m\u001b[0m\u001b[0m\n\u001b[0m\u001b[1;32m      2\u001b[0m     \u001b[0;31m# just in case, if the instances are lists or tuples:\u001b[0m\u001b[0;34m\u001b[0m\u001b[0;34m\u001b[0m\u001b[0;34m\u001b[0m\u001b[0m\n\u001b[1;32m      3\u001b[0m     \u001b[0minstance1\u001b[0m \u001b[0;34m=\u001b[0m \u001b[0mnp\u001b[0m\u001b[0;34m.\u001b[0m\u001b[0marray\u001b[0m\u001b[0;34m(\u001b[0m\u001b[0minstance1\u001b[0m\u001b[0;34m)\u001b[0m\u001b[0;34m\u001b[0m\u001b[0;34m\u001b[0m\u001b[0m\n\u001b[1;32m      4\u001b[0m     \u001b[0minstance2\u001b[0m \u001b[0;34m=\u001b[0m \u001b[0mnp\u001b[0m\u001b[0;34m.\u001b[0m\u001b[0marray\u001b[0m\u001b[0;34m(\u001b[0m\u001b[0minstance2\u001b[0m\u001b[0;34m)\u001b[0m\u001b[0;34m\u001b[0m\u001b[0;34m\u001b[0m\u001b[0m\n\u001b[1;32m      5\u001b[0m \u001b[0;34m\u001b[0m\u001b[0m\n",
            "\u001b[0;31mKeyboardInterrupt\u001b[0m: "
          ]
        }
      ]
    },
    {
      "cell_type": "code",
      "metadata": {
        "id": "vnEqKsE7gQaI",
        "colab_type": "code",
        "pycharm": {
          "is_executing": false
        },
        "colab": {
          "base_uri": "https://localhost:8080/",
          "height": 50
        },
        "outputId": "89920529-672b-45ca-cf03-7aaf8f6058fa"
      },
      "source": [
        "#---------------------------------- QUESTION 2 -------------------------------------------#\n",
        "# Split the data into 4 parts (104 images each)\n",
        "# train_data = np.split(data_train, 4)\n",
        "# test_data = np.split(data_test, 4)\n",
        "# train_label = np.split(label_train, 4)\n",
        "# test_label = np.split(label_test, 4)\n",
        "\n",
        "def splitSubset(data, label, sNum):\n",
        "  d_train = []\n",
        "  l_train = []\n",
        "\n",
        "  for i in range(0, 416, 8):\n",
        "      d_train.append(data[i+sNum:i+sNum+2])\n",
        "      l_train.append(label[i+sNum:i+sNum+2])\n",
        "\n",
        "  return d_train, l_train\n",
        "\n",
        "\n",
        "d_train = []\n",
        "l_train = []\n",
        "\n",
        "for i in range(4):\n",
        "  data, label = splitSubset(data_train, label_train, i*2)\n",
        "  d_train.append(np.asarray(data).T)\n",
        "  l_train.append(label)\n",
        "\n",
        "# da_train = np.reshape(d_train[0],(2576,-1))\n",
        "d_train = np.asarray(d_train)\n",
        " \n",
        "da_train = []\n",
        "\n",
        "for i in range(0, 4):\n",
        "  da_train.append(np.reshape(d_train[i],(2576,-1)))\n",
        "\n",
        "np.asarray(da_train).shape\n",
        "\n",
        "\n",
        "# da_train = np.reshape(d_train[0],(2576,-1))\n",
        "def createA(data):\n",
        "  avg = np.mean(data, axis = 0)\n",
        "  A = np.empty([0,2576])\n",
        "  for i in range(len(data)):\n",
        "    app = np.array([data[i] - avg])\n",
        "    newA = np.append(A, app, axis = 0)\n",
        "    A = newA\n",
        "  A = A.T\n",
        "  return  A, avg\n",
        "\n",
        "def PCA(A, S, M, N):\n",
        "  Meigvals, Meigvecs = eigh(S, eigvals=(N-M, N-1))\n",
        "\n",
        "  eigvecsM = Meigvecs.astype(float)\n",
        "  eigvecsM = preprocessing.normalize(np.dot(A, eigvecsM).T)\n",
        "  return eigvecsM\n"
      ],
      "execution_count": 97,
      "outputs": [
        {
          "output_type": "stream",
          "text": [
            "(4, 2576, 2, 52)\n",
            "(4, 2576, 104)\n"
          ],
          "name": "stdout"
        }
      ]
    },
    {
      "cell_type": "code",
      "metadata": {
        "id": "OJOq7f2Hkc8K",
        "colab_type": "code",
        "pycharm": {
          "is_executing": false
        },
        "colab": {}
      },
      "source": [
        "# PCA trained by only the first subset\n",
        "\n",
        "\n",
        "#subtract the mean face of dataset 1\n",
        "A=[None] * 4\n",
        "A[0], avg1 = createA(train_data[0])\n",
        "\n",
        "print(len(A[0]))\n",
        "\n",
        "#Low-dimensional computation of eigenspace of dataset 1\n",
        "S = np.dot(A[0].T, A[0])*1/len(train_data[0])\n",
        "N=len(train_data[0])\n",
        "M=len(train_data[0])\n",
        "print(\"N\", N, \"M\", M)\n",
        "eigvecsM = PCA(A[0], S, M, N)\n",
        "print(type(S))"
      ],
      "execution_count": 0,
      "outputs": []
    },
    {
      "cell_type": "code",
      "metadata": {
        "id": "4aTxeOoKmvqe",
        "colab_type": "code",
        "pycharm": {
          "is_executing": false
        },
        "colab": {}
      },
      "source": [
        "# Calculating the reconstruction error for dataset 1\n",
        "x = []\n",
        "y = []\n",
        "for M in range(1,N):\n",
        "  Meigvals_new, Meigvecs_new = eigh(S, eigvals=(N-M, N-1))\n",
        "  J = np.absolute(np.sum(Meigvals)-np.sum(Meigvals_new))\n",
        "  x.append(M)\n",
        "  y.append(J)\n",
        "  \n",
        "\n",
        "plt.xlabel('No. of Eigenvalues')\n",
        "plt.ylabel('Absolute Error')\n",
        "plt.plot(x,y)"
      ],
      "execution_count": 0,
      "outputs": []
    },
    {
      "cell_type": "code",
      "metadata": {
        "id": "AHdKzqrIA757",
        "colab_type": "code",
        "pycharm": {
          "is_executing": false
        },
        "colab": {}
      },
      "source": [
        "x=[]\n",
        "y=[]\n",
        "\n",
        "for M in range(1,N):\n",
        "  Meigvals_new, Meigvecs_new = eigh(S, eigvals=(N-M, N-1))\n",
        "\n",
        "  eigvecsM = Meigvecs_new.astype(float)\n",
        "  eigvecsM = preprocessing.normalize(np.dot(A[0], eigvecsM).T)\n",
        "  total = 0\n",
        "  correct = 0\n",
        "\n",
        "  W = np.dot(A[0].T, eigvecsM.T)\n",
        "  for test_index in range(len(test_data[0])):\n",
        "    test_face_normalized = test_data[0][test_index] - avg1\n",
        "    W_test = np.dot(test_face_normalized, eigvecsM.T)\n",
        "    im = get_neighbors(W, train_label[0], W_test, 1, distance=distance)\n",
        "    image, _, label= im[0]\n",
        "    if label == test_label[0][test_index]:\n",
        "      correct += 1\n",
        "    total += 1\n",
        "  x.append(M)\n",
        "  y.append(correct/total)\n",
        "\n",
        "plt.xlabel('No. of Eigenvectors')\n",
        "plt.ylabel('Accuracy')\n",
        "plt.plot(x,y)"
      ],
      "execution_count": 0,
      "outputs": []
    },
    {
      "cell_type": "code",
      "metadata": {
        "id": "t9DrAqxGoivr",
        "colab_type": "code",
        "pycharm": {
          "is_executing": false
        },
        "colab": {}
      },
      "source": [
        "def incremental_PCA(mean1, mean2, N1, N2, eigvecs1, eigvecs2, S1, S2):\n",
        "  N3 = N1 + N2\n",
        "  mean3 = (N1*mean1 + N2*mean2)/N3\n",
        "  S3 = (N1/N3)*S1 + (N2/N3)*S2 + ((N1*N2)/(N3**2))*np.dot((mean1-mean2),(mean1-mean2).T)\n",
        "  phi = np.concatenate([eigvecs1.T, eigvecs2.T, (np.asarray([mean1-mean2])).reshape(2576, -1)], axis = 1)\n",
        "  phi, _ =  np.linalg.qr(phi)\n",
        "  matrix = np.dot((phi.T), S3)\n",
        "  matrix = np.dot(matrix, phi)\n",
        "  eigvals, R = np.linalg.eig(matrix)\n",
        "  eigvecs = np.dot(phi, R).T\n",
        "  print((eigvecs1.T.shape))\n",
        "  return eigvals, eigvecs, mean3, S3, N3"
      ],
      "execution_count": 0,
      "outputs": []
    },
    {
      "cell_type": "code",
      "metadata": {
        "id": "87N0TAE2m6GK",
        "colab_type": "code",
        "pycharm": {
          "is_executing": false
        },
        "colab": {}
      },
      "source": [
        "#Incremental PCA\n",
        "\n",
        "# High dimensional calculation of S1 required for incremental PCA\n",
        "S1 = np.dot(A[0], A[0].T)*1/len(train_data[0])\n",
        "# avg_1 = avg_1\n",
        "N1 = N\n",
        "print(N)\n",
        "Sbatch = [None]*4\n",
        "# Sbatch[0] = S1; but this line is not required as S1 is already assigned\n",
        "# Assuming the first batch has been carried out (in the cells above)\n",
        "# The following loop incrementally adds new data batches to calculate S3\n",
        "eigvecs1 = eigvecsM\n",
        "for batch in range(1, 4):\n",
        "\n",
        "  # Creating A2 to calculate S2\n",
        "  A[batch], avg2 = createA(train_data[batch])\n",
        "  N2 = len(A[batch])\n",
        "  print(N2)\n",
        "\n",
        "  # Low dimensional calculation of S2 to find eigvecs faster\n",
        "  Sbatch[batch] = np.dot(A[batch].T, A[batch])*1/len(train_data[batch])\n",
        "  \n",
        "  eigvals2, eigvecs2 = np.linalg.eig(Sbatch[batch])\n",
        "  eigvecs2 = eigvecs2.astype(float)\n",
        "  eigvecs2 = preprocessing.normalize(np.dot(A[batch], eigvecs2).T)\n",
        "  # High dimensional calculation of S2 as required for incremental PCA\n",
        "  S2 = np.dot(A[batch], A[batch].T)*1/len(train_data[batch])\n",
        "  # Incremental PCA done on 2 data sets\n",
        "  print(\"Eigvecs1\", eigvecs1.shape, \"Eigvecs2\", eigvecs2.shape)\n",
        "  eigvals3, eigvecs3, avg3, S3, N3 = incremental_PCA(avg1, avg2, N1, N2, eigvecs1, eigvecs2, S1, S2)\n",
        " \n",
        "  \n",
        "  # In the next iteration we want S1 to be the current cumulative S3\n",
        "  S1 = S3\n",
        "  N1 = N3\n",
        "  avg1 = avg3\n",
        "  eigvecs1 = eigvecs3\n",
        "\n",
        "\n",
        "\n",
        "print(S3.shape, eigvecs3.shape)\n",
        "\n"
      ],
      "execution_count": 0,
      "outputs": []
    },
    {
      "cell_type": "code",
      "metadata": {
        "id": "F0vBnnkZd7cH",
        "colab_type": "code",
        "pycharm": {
          "is_executing": false
        },
        "colab": {}
      },
      "source": [
        "# face reconstruction with Incremental PCA eigvecs\n",
        "A, avg = createA(data_train)\n",
        "print(A.shape)\n",
        "Wn = np.dot(A[:,[100]].T, eigvecs3.T)\n",
        "print(Wn.shape)\n",
        "sumCols = np.dot(Wn, eigvecs3)\n",
        "\n",
        "#reconstruct \n",
        "reconstructed_face = np.absolute(avg.reshape((2576,1)) + sumCols.T)\n",
        "reconstructed_face = np.reshape(reconstructed_face,(46,56))\n",
        "#new_100 = (255-np.reshape(new_100,(46,56)))\n",
        "plt.imshow(reconstructed_face.T, cmap = 'gist_gray')\n"
      ],
      "execution_count": 0,
      "outputs": []
    },
    {
      "cell_type": "code",
      "metadata": {
        "id": "4q8rmdZVWMp6",
        "colab_type": "code",
        "pycharm": {
          "is_executing": false
        },
        "colab": {}
      },
      "source": [
        "# sorting eigvecs by largest eigvals\n",
        "idx = eigvals3.argsort()[::-1]   \n",
        "eigvals3 = eigvals3[idx]\n",
        "eigvecs3 = eigvecs3[idx,:]"
      ],
      "execution_count": 0,
      "outputs": []
    },
    {
      "cell_type": "code",
      "metadata": {
        "id": "NbCBz4Ym9IV5",
        "colab_type": "code",
        "pycharm": {
          "is_executing": false
        },
        "colab": {}
      },
      "source": [
        "# Calculating the reconstruction error for incremental PCA\n",
        "x = []\n",
        "y = []\n",
        "for M in range(1,419):\n",
        "  J = np.absolute(np.sum(eigvals3)-np.sum(eigvals3[:M]))\n",
        "  x.append(M)\n",
        "  y.append(J)\n",
        "  \n",
        "\n",
        "plt.xlabel('No. of Eigenvalues')\n",
        "plt.ylabel('Absolute Error')\n",
        "plt.plot(x,y)"
      ],
      "execution_count": 0,
      "outputs": []
    },
    {
      "cell_type": "code",
      "metadata": {
        "id": "2TTCu0v29IMp",
        "colab_type": "code",
        "pycharm": {
          "is_executing": true
        },
        "colab": {}
      },
      "source": [
        "# face recognition accuracy with incremental PCA\n",
        "\n",
        "x=[]\n",
        "y=[]\n",
        "print(eigvecs3.shape)\n",
        "for M in range(1,416):\n",
        "  eigvecsM = eigvecs3[:M]\n",
        "  total = 0\n",
        "  correct = 0\n",
        "  W = np.dot(A.T, eigvecsM.T)\n",
        "  for test_index in range(len(data_test)):\n",
        "    test_face_normalized = data_test[test_index] - avg\n",
        "    W_test = np.dot(test_face_normalized, eigvecsM.T)\n",
        "    im = get_neighbors(W, label_train, W_test, 1, distance=distance)\n",
        "    image, _, label= im[0]\n",
        "    if label == label_test[test_index]:\n",
        "      correct += 1\n",
        "    total += 1\n",
        "  x.append(M)\n",
        "  y.append(correct/total)\n",
        "\n",
        "plt.xlabel('No. of Eigenvectors')\n",
        "plt.ylabel('Accuracy')\n",
        "plt.plot(x,y)"
      ],
      "execution_count": 0,
      "outputs": []
    }
  ]
}