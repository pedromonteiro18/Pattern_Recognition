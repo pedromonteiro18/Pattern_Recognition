{
 "nbformat": 4,
 "nbformat_minor": 0,
 "metadata": {
  "kernelspec": {
   "name": "python3",
   "language": "python",
   "display_name": "Python 3"
  },
  "language_info": {
   "codemirror_mode": {
    "name": "ipython",
    "version": 2
   },
   "file_extension": ".py",
   "mimetype": "text/x-python",
   "name": "python",
   "nbconvert_exporter": "python",
   "pygments_lexer": "ipython2",
   "version": "2.7.16"
  },
  "colab": {
   "name": "Coursework.ipynb",
   "provenance": [],
   "collapsed_sections": [],
   "include_colab_link": true
  },
  "pycharm": {
   "stem_cell": {
    "cell_type": "raw",
    "source": [],
    "metadata": {
     "collapsed": false
    }
   }
  }
 },
 "cells": [
  {
   "cell_type": "markdown",
   "metadata": {
    "id": "view-in-github",
    "colab_type": "text"
   },
   "source": [
    "<a href=\"https://colab.research.google.com/github/pedromonteiro18/Pattern_Recognition/blob/master/Coursework.ipynb\" target=\"_parent\"><img src=\"https://colab.research.google.com/assets/colab-badge.svg\" alt=\"Open In Colab\"/></a>"
   ]
  },
  {
   "cell_type": "code",
   "metadata": {
    "colab_type": "code",
    "pycharm": {
     "is_executing": false
    },
    "id": "DT5FHEqIi_rt",
    "colab": {}
   },
   "source": [],
   "execution_count": 0,
   "outputs": []
  },
  {
   "cell_type": "code",
   "metadata": {
    "id": "_XDZ9jNnLS3r",
    "colab_type": "code",
    "pycharm": {
     "is_executing": false
    },
    "colab": {}
   },
   "source": [
    "import scipy.io as sio\n",
    "import numpy as np\n",
    "import matplotlib.pyplot as plt\n",
    "from sklearn.model_selection import train_test_split\n",
    "from scipy.linalg import eigh\n",
    "\n",
    "mat_content = sio.loadmat('face.mat')\n",
    "1\n",
    "# mat_content # Let's see the content... \n",
    "np.random.seed(1)"
   ],
   "execution_count": 1,
   "outputs": []
  },
  {
   "cell_type": "code",
   "metadata": {
    "id": "eNglKw_rLS3x",
    "colab_type": "code",
    "pycharm": {
     "is_executing": false
    },
    "colab": {}
   },
   "source": [
    "face_data = mat_content['X']\n",
    "face_labels = mat_content['l']\n",
    "\n",
    "#transpose to select test and training data\n",
    "face_data = face_data\n",
    "face_labels = face_labels"
   ],
   "execution_count": 2,
   "outputs": []
  },
  {
   "cell_type": "code",
   "metadata": {
    "id": "Ep6CxjH3LS3z",
    "colab_type": "code",
    "pycharm": {
     "is_executing": false
    },
    "colab": {}
   },
   "source": [
    "#20/80 test/training split\n",
    "data_train, data_test, label_train, label_test = train_test_split(\n",
    "    face_data.T, face_labels.T, test_size=0.2, random_state =1 )"
   ],
   "execution_count": 3,
   "outputs": []
  },
  {
   "cell_type": "code",
   "metadata": {
    "id": "P4Ct5BuELS32",
    "colab_type": "code",
    "outputId": "0aeabf3e-6118-4c1a-8f62-9654168bdc2f",
    "pycharm": {
     "is_executing": false
    },
    "colab": {
     "base_uri": "https://localhost:8080/",
     "height": 284
    }
   },
   "source": [
    "#compute average face vector\n",
    "avg = np.mean(data_train, axis = 0)\n",
    "plt.imshow(np.reshape(avg,(46,56)).T, cmap = 'gist_gray')"
   ],
   "execution_count": 4,
   "outputs": [
    {
     "data": {
      "text/plain": "<matplotlib.image.AxesImage at 0x11f2100d0>"
     },
     "metadata": {},
     "output_type": "execute_result",
     "execution_count": 4
    },
    {
     "data": {
      "text/plain": "<Figure size 432x288 with 1 Axes>",
      "image/png": "[encoded data removed]"
     },
     "metadata": {
      "needs_background": "light"
     },
     "output_type": "display_data"
    }
   ]
  },
  {
   "cell_type": "code",
   "metadata": {
    "id": "8BVO5SVALS34",
    "colab_type": "code",
    "pycharm": {
     "is_executing": false
    },
    "colab": {}
   },
   "source": [
    "#subtract the mean face \n",
    "A = np.array([(data_train[0] - avg),(data_train[1] - avg)])\n",
    "\n",
    "for i in range(2,len(data_train)):\n",
    "    app = np.array([data_train[i] - avg])\n",
    "    newA = np.append(A, app, axis = 0)\n",
    "    A = newA\n",
    "A = A.T"
   ],
   "execution_count": 5,
   "outputs": []
  },
  {
   "cell_type": "code",
   "metadata": {
    "id": "uTQZlJv1LS36",
    "colab_type": "code",
    "pycharm": {
     "is_executing": false
    },
    "colab": {}
   },
   "source": [
    "#compute covariance matrix \n",
    "S = np.dot(A, A.T)*1/len(data_train)\n",
    "\n",
    "#Low-dimensional computation of eigenspace \n",
    "S2 = np.dot(A.T, A)*1/len(data_train)"
   ],
   "execution_count": 6,
   "outputs": []
  },
  {
   "cell_type": "code",
   "metadata": {
    "id": "qXUHz5LjLS38",
    "colab_type": "code",
    "pycharm": {
     "is_executing": false
    },
    "colab": {}
   },
   "source": [
    "# eigenvectors and eigenvalues\n",
    "eigvals, eigvecs = np.linalg.eig(S)\n",
    "eigvalsLow, eigvecsLow = np.linalg.eig(S2)\n",
    "# print(eigvalsLow, eigvecsLow)"
   ],
   "execution_count": 7,
   "outputs": []
  },
  {
   "cell_type": "code",
   "metadata": {
    "id": "LyrZdj48LS3_",
    "colab_type": "code",
    "outputId": "a081c4bd-8dcd-4c2c-faab-c8652d153164",
    "pycharm": {
     "is_executing": false
    },
    "colab": {
     "base_uri": "https://localhost:8080/",
     "height": 34
    }
   },
   "source": [
    "from sklearn import preprocessing\n",
    "N=S2.shape[0]\n",
    "M = 416\n",
    "Meigvals, Meigvecs = eigh(S2, eigvals=(N-M, N-1))\n",
    "\n",
    "eigvecsM = Meigvecs.astype(float)\n",
    "eigvecsM = preprocessing.normalize(np.dot(A, eigvecsM).T)\n",
    "\n",
    "#represent each normalized face by its projections\n",
    "Wn = np.dot(A[:,[100]].T, eigvecsM.T)\n",
    "print(Wn.shape)\n",
    "# print(np.sort(eigvalsLow)[::-1])\n"
   ],
   "execution_count": 8,
   "outputs": [
    {
     "name": "stdout",
     "text": [
      "(1, 416)\n"
     ],
     "output_type": "stream"
    }
   ]
  },
  {
   "cell_type": "code",
   "metadata": {
    "id": "oAU-aojSLS4B",
    "colab_type": "code",
    "outputId": "37bf978b-8cef-45c2-f8d8-ec5bd096da0f",
    "pycharm": {
     "is_executing": false
    },
    "colab": {
     "base_uri": "https://localhost:8080/",
     "height": 284
    }
   },
   "source": [
    "#reconstruction test face \n",
    "face_100 = data_train.T[:,100]\n",
    "face_100 = np.reshape(face_100,(46,56))\n",
    "plt.imshow(face_100.T, cmap= 'gist_gray')"
   ],
   "execution_count": 9,
   "outputs": [
    {
     "data": {
      "text/plain": "<matplotlib.image.AxesImage at 0x10a36f610>"
     },
     "metadata": {},
     "output_type": "execute_result",
     "execution_count": 9
    },
    {
     "data": {
      "text/plain": "<Figure size 432x288 with 1 Axes>",
      "image/png": "[encoded data removed]"
     },
     "metadata": {
      "needs_background": "light"
     },
     "output_type": "display_data"
    }
   ]
  },
  {
   "cell_type": "code",
   "metadata": {
    "id": "y45vqM_YLS4D",
    "colab_type": "code",
    "outputId": "1eaea3b7-24c4-41fa-9c5a-1593dc72ef60",
    "pycharm": {
     "is_executing": false
    },
    "colab": {
     "base_uri": "https://localhost:8080/",
     "height": 284
    }
   },
   "source": [
    "# sumCols = np.array([[None for x in range(2576)] for y in range(1)]).T\n",
    "# sumCols = Wn[:,0].reshape(-1,1)\n",
    "# for i in range(1, len(Wn[0])):\n",
    "#     cols = Wn[:,i].reshape(-1,1)\n",
    "#     sumCols += np.reshape(cols, (2576, 1))\n",
    "sumCols = np.dot(Wn, eigvecsM)\n",
    "\n",
    "#reconstruct \n",
    "new_100 = avg.reshape((2576,1)) + sumCols.T\n",
    "new_100_reshaped = np.reshape(new_100,(46,56))\n",
    "#new_100 = (255-np.reshape(new_100,(46,56)))\n",
    "plt.imshow(new_100_reshaped.T, cmap = 'gist_gray')"
   ],
   "execution_count": 10,
   "outputs": [
    {
     "data": {
      "text/plain": "<matplotlib.image.AxesImage at 0x11f441f90>"
     },
     "metadata": {},
     "output_type": "execute_result",
     "execution_count": 10
    },
    {
     "data": {
      "text/plain": "<Figure size 432x288 with 1 Axes>",
      "image/png": "[encoded data removed]"
     },
     "metadata": {
      "needs_background": "light"
     },
     "output_type": "display_data"
    }
   ]
  },
  {
   "cell_type": "code",
   "metadata": {
    "id": "d__sjKPV73oF",
    "colab_type": "code",
    "outputId": "17cbb44c-cc38-4ea9-ad48-86318a1202d9",
    "colab": {
     "base_uri": "https://localhost:8080/",
     "height": 296
    },
    "pycharm": {
     "is_executing": true
    }
   },
   "source": [
    "# Calculating the reconstruction error\n",
    "x = []\n",
    "y = []\n",
    "for M in range(1,N):\n",
    "  Meigvals_new, Meigvecs_new = eigh(S2, eigvals=(N-M, N-1))\n",
    "  J = np.absolute(np.sum(Meigvals)-np.sum(Meigvals_new))\n",
    "  x.append(M)\n",
    "  y.append(J)\n",
    "\n",
    "plt.xlabel('No. of Eigenvalues')\n",
    "plt.ylabel('Absolute Error')\n",
    "plt.plot(x,y)\n"
   ],
   "execution_count": null,
   "outputs": []
  },
  {
   "cell_type": "code",
   "metadata": {
    "colab_type": "code",
    "outputId": "915b9c32-1931-4ec7-f644-71434a23fb3f",
    "pycharm": {
     "is_executing": true
    },
    "id": "b30y2JTYi-oM",
    "colab": {
     "base_uri": "https://localhost:8080/",
     "height": 284
    }
   },
   "source": [
    "def distance(instance1, instance2):\n",
    "    # just in case, if the instances are lists or tuples:\n",
    "    instance1 = np.array(instance1) \n",
    "    instance2 = np.array(instance2)\n",
    "    \n",
    "    return np.linalg.norm(instance1 - instance2)\n",
    "  \n",
    "def get_neighbors(training_set, \n",
    "                  labels, \n",
    "                  test_instance, \n",
    "                  k, \n",
    "                  distance=distance):\n",
    "    \"\"\"\n",
    "    get_neighors calculates a list of the k nearest neighbors\n",
    "    of an instance 'test_instance'.\n",
    "    The list neighbors contains 3-tuples with  \n",
    "    (index, dist, label)\n",
    "    where \n",
    "    index    is the index from the training_set, \n",
    "    dist     is the distance between the test_instance and the \n",
    "             instance training_set[index]\n",
    "    distance is a reference to a function used to calculate the \n",
    "             distances\n",
    "    \"\"\"\n",
    "    distances = []\n",
    "    for index in range(len(training_set)):\n",
    "        dist = distance(test_instance, training_set[index])\n",
    "        distances.append((training_set[:,[index]], dist, labels[index]))\n",
    "    distances.sort(key=lambda x: x[1])\n",
    "    neighbors = distances[:k]\n",
    "    return neighbors\n",
    "\n",
    "W = np.dot(A, Meigvecs.T)\n",
    "im = get_neighbors(W, label_train, Wn, 1, distance=distance)\n",
    "image, _, _= im[0]\n",
    "im = np.reshape(image,(46,56))\n",
    "plt.imshow(im.T, cmap= 'gist_gray')"
   ],
   "execution_count": null,
   "outputs": []
  },
  {
   "cell_type": "code",
   "metadata": {
    "id": "OJOq7f2Hkc8K",
    "colab_type": "code",
    "colab": {
     "base_uri": "https://localhost:8080/",
     "height": 318
    },
    "outputId": "ff6413a5-5793-495d-81b0-5f304b9076d6",
    "pycharm": {
     "is_executing": true
    }
   },
   "source": [
    "#---------------------------------- QUESTION 2 -------------------------------------------#\n",
    "# Split the data into 4 parts (104 images each)\n",
    "train_data = np.split(data_train, 4)\n",
    "test_data = np.split(data_test, 4)\n",
    "train_label = np.split(label_train, 4)\n",
    "test_label = np.split(label_test, 4)\n",
    "\n",
    "# PCA trained by only the first subset\n",
    "\n",
    "#compute average face vector\n",
    "avg_1 = np.mean(train_data[0], axis = 0)\n",
    "plt.imshow(np.reshape(avg_1,(46,56)).T, cmap = 'gist_gray')\n",
    "\n",
    "#subtract the mean face of dataset 1\n",
    "A=[None] * 4\n",
    "A[0] = np.empty([0,2576])\n",
    "\n",
    "for i in range(len(train_data[0])):\n",
    "    app = np.array([train_data[0][i] - avg_1])\n",
    "    newA = np.append(A[0], app, axis = 0)\n",
    "    A[0] = newA\n",
    "A[0] = A[0].T\n",
    "\n",
    "print(len(A[0]))\n",
    "\n",
    "#Low-dimensional computation of eigenspace of dataset 1\n",
    "S = np.dot(A[0].T, A[0])*1/len(train_data[0])\n",
    "\n",
    "N=S.shape[0]\n",
    "M=len(A[0][0])\n",
    "Meigvals, Meigvecs = eigh(S, eigvals=(N-M, N-1))\n",
    "\n",
    "eigvecsM = Meigvecs.astype(float)\n",
    "eigvecsM = preprocessing.normalize(np.dot(A[0], eigvecsM).T)\n",
    "\n",
    "#represent each normalized face by its projections\n",
    "Wn = np.dot(A[0][:,[100]].T, eigvecsM.T)\n",
    "print(Wn.shape)\n",
    "# print(np.sort(eigvalsLow)[::-1])\n",
    "\n",
    "\n",
    "print(type(S))"
   ],
   "execution_count": null,
   "outputs": []
  },
  {
   "cell_type": "code",
   "metadata": {
    "id": "4aTxeOoKmvqe",
    "colab_type": "code",
    "colab": {
     "base_uri": "https://localhost:8080/",
     "height": 296
    },
    "outputId": "1c2e2e23-d68e-464b-9308-2190b81654dc",
    "pycharm": {
     "is_executing": true
    }
   },
   "source": [
    "# Calculating the reconstruction error for dataset 1\n",
    "x = []\n",
    "y = []\n",
    "for M in range(1,N):\n",
    "  Meigvals_new, Meigvecs_new = eigh(S, eigvals=(N-M, N-1))\n",
    "  J = np.absolute(np.sum(Meigvals)-np.sum(Meigvals_new))\n",
    "  x.append(M)\n",
    "  y.append(J)\n",
    "\n",
    "plt.xlabel('No. of Eigenvalues')\n",
    "plt.ylabel('Absolute Error')\n",
    "plt.plot(x,y)"
   ],
   "execution_count": null,
   "outputs": []
  },
  {
   "cell_type": "code",
   "metadata": {
    "id": "87N0TAE2m6GK",
    "colab_type": "code",
    "colab": {
     "base_uri": "https://localhost:8080/",
     "height": 50
    },
    "outputId": "c2ea99c7-1b24-4172-878b-2216954e307f",
    "pycharm": {
     "is_executing": true
    }
   },
   "source": [
    "#Incremental PCA\n",
    "S_1 = S\n",
    "print(type(S))\n",
    "# avg_1 = avg_1\n",
    "N_1 = N\n",
    "Sbatch = [None]*4\n",
    "\n",
    "# Assuming the first batch has been carried out (in the cells above)\n",
    "# The following loop incrementally adds new data batches to calculate S_3\n",
    "for batch in range(1, 3):\n",
    "  A[batch] = np.empty([0,2576])\n",
    "  avg_2 = np.mean(train_data[batch], axis = 0)\n",
    "\n",
    "  for i in range(len(train_data[batch])):\n",
    "    app = np.array([train_data[batch][i] - avg])\n",
    "    newA = np.append(A[batch], app, axis = 0)\n",
    "    A[batch] = newA\n",
    "\n",
    "  N_2 = len(A[batch])\n",
    "  A[batch] = A[batch].T\n",
    "  Sbatch[batch] = np.dot(A[batch].T, A[batch])*1/len(train_data[batch])\n",
    "\n",
    "  \n",
    "  # mu_3 = (N1*mu_1 + N2*mu2)/N3\n",
    "  S_2 = Sbatch[batch]\n",
    "  N_3 = N_1 + N_2\n",
    "  avg_3 = (N_1*avg_1 + N_2*avg_2)/N_3\n",
    "\n",
    "  S_3 = (N_1/N_3)*S_1 + (N_2/N_3)*S_2 + ((N_1*N_2)/(N_3**2))*np.dot((avg_1-avg_2),(avg_1-avg_2).T)\n",
    "  S_1 = S_3\n",
    "  N_1 = N_3\n",
    "  avg_1 = avg_3\n",
    "\n",
    "print(S_3.shape)"
   ],
   "execution_count": null,
   "outputs": []
  }
 ]
}